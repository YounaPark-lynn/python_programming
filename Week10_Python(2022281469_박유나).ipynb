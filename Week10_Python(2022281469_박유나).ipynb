{
  "cells": [
    {
      "cell_type": "markdown",
      "metadata": {
        "id": "view-in-github",
        "colab_type": "text"
      },
      "source": [
        "<a href=\"https://colab.research.google.com/github/YounaPark-lynn/python_programming/blob/main/Week10_Python(2022281469_%E1%84%87%E1%85%A1%E1%86%A8%E1%84%8B%E1%85%B2%E1%84%82%E1%85%A1).ipynb\" target=\"_parent\"><img src=\"https://colab.research.google.com/assets/colab-badge.svg\" alt=\"Open In Colab\"/></a>"
      ]
    },
    {
      "cell_type": "markdown",
      "id": "d1c1e008-6ad3-4dba-9a07-2159ee71b33c",
      "metadata": {
        "id": "d1c1e008-6ad3-4dba-9a07-2159ee71b33c"
      },
      "source": [
        "### 클래스"
      ]
    },
    {
      "cell_type": "code",
      "execution_count": 1,
      "id": "4a00a886-c91a-4121-9ddc-9b4678c0bed3",
      "metadata": {
        "id": "4a00a886-c91a-4121-9ddc-9b4678c0bed3"
      },
      "outputs": [],
      "source": [
        "# 계산기 더하기 기능\n",
        "result = 0\n",
        "\n",
        "def adder(num):\n",
        "    global result\n",
        "    result += num\n",
        "    return result"
      ]
    },
    {
      "cell_type": "code",
      "execution_count": 2,
      "id": "64bbc80f-516b-4c8b-82bf-b08a5c1d3dee",
      "metadata": {
        "colab": {
          "base_uri": "https://localhost:8080/"
        },
        "id": "64bbc80f-516b-4c8b-82bf-b08a5c1d3dee",
        "outputId": "c50ea368-dc7f-41c3-c556-b73fbfbc469c"
      },
      "outputs": [
        {
          "output_type": "stream",
          "name": "stdout",
          "text": [
            "3\n",
            "7\n"
          ]
        }
      ],
      "source": [
        "print(adder(3))\n",
        "print(adder(4))"
      ]
    },
    {
      "cell_type": "code",
      "execution_count": 3,
      "id": "b2eb9dae-4bee-490d-8254-48eb26c017b0",
      "metadata": {
        "id": "b2eb9dae-4bee-490d-8254-48eb26c017b0"
      },
      "outputs": [],
      "source": [
        "# 계산기 2개\n",
        "result1 = 0\n",
        "result2 = 0\n",
        "\n",
        "def adder1(num):\n",
        "    global result1\n",
        "    result1 += num\n",
        "    return result1\n",
        "\n",
        "def adder2(num):\n",
        "    global result2\n",
        "    result2 += num\n",
        "    return result2"
      ]
    },
    {
      "cell_type": "code",
      "execution_count": 4,
      "id": "ce0182ae-a7ef-4a56-8707-82e3414db661",
      "metadata": {
        "colab": {
          "base_uri": "https://localhost:8080/"
        },
        "id": "ce0182ae-a7ef-4a56-8707-82e3414db661",
        "outputId": "a5201be4-5dc5-4d93-98c9-1ef8d9bab004"
      },
      "outputs": [
        {
          "output_type": "stream",
          "name": "stdout",
          "text": [
            "3\n",
            "7\n",
            "3\n",
            "10\n"
          ]
        }
      ],
      "source": [
        "print(adder1(3))\n",
        "print(adder1(4))\n",
        "print(adder2(3))\n",
        "print(adder2(7))"
      ]
    },
    {
      "cell_type": "code",
      "execution_count": 5,
      "id": "cc1fb241-2cc9-4838-a5bd-f69c6a047b38",
      "metadata": {
        "id": "cc1fb241-2cc9-4838-a5bd-f69c6a047b38"
      },
      "outputs": [],
      "source": [
        "# 클래스 사용\n",
        "class Calculator:\n",
        "    def __init__(self):\n",
        "        self.result = 0\n",
        "\n",
        "    def adder(self, num):\n",
        "        self.result += num\n",
        "        return self.result"
      ]
    },
    {
      "cell_type": "code",
      "execution_count": 6,
      "id": "e987f2d3-988f-4cf1-ae8d-c0ce55a8cd39",
      "metadata": {
        "id": "e987f2d3-988f-4cf1-ae8d-c0ce55a8cd39"
      },
      "outputs": [],
      "source": [
        "cal1 = Calculator()\n",
        "cal2 = Calculator()"
      ]
    },
    {
      "cell_type": "code",
      "execution_count": 7,
      "id": "a9f60ed5-cb57-4eb8-b1ef-aeebcd1ce5d2",
      "metadata": {
        "colab": {
          "base_uri": "https://localhost:8080/"
        },
        "id": "a9f60ed5-cb57-4eb8-b1ef-aeebcd1ce5d2",
        "outputId": "fcab5ef4-7b2f-4f2d-ee26-2b68429e5a12"
      },
      "outputs": [
        {
          "output_type": "stream",
          "name": "stdout",
          "text": [
            "3\n",
            "7\n",
            "3\n",
            "10\n"
          ]
        }
      ],
      "source": [
        "print(cal1.adder(3))\n",
        "print(cal1.adder(4))\n",
        "print(cal2.adder(3))\n",
        "print(cal2.adder(7))"
      ]
    },
    {
      "cell_type": "code",
      "execution_count": 8,
      "id": "6f14d16b-9842-4f9f-b15f-ee0f93ed5e3d",
      "metadata": {
        "id": "6f14d16b-9842-4f9f-b15f-ee0f93ed5e3d"
      },
      "outputs": [],
      "source": [
        "# 클래스 변수\n",
        "class Service:\n",
        "    secret = \"지구는 4006년에 멸망한다.\""
      ]
    },
    {
      "cell_type": "code",
      "execution_count": 9,
      "id": "c59577e0-4e82-49a3-a41a-c7003d0be918",
      "metadata": {
        "id": "c59577e0-4e82-49a3-a41a-c7003d0be918"
      },
      "outputs": [],
      "source": [
        "an = Service()"
      ]
    },
    {
      "cell_type": "code",
      "execution_count": 10,
      "id": "f517fce6-a332-40de-96c0-9adf570ffe08",
      "metadata": {
        "colab": {
          "base_uri": "https://localhost:8080/",
          "height": 36
        },
        "id": "f517fce6-a332-40de-96c0-9adf570ffe08",
        "outputId": "3e565463-81c5-4ae3-b872-51d96e4eb36b"
      },
      "outputs": [
        {
          "output_type": "execute_result",
          "data": {
            "text/plain": [
              "'지구는 4006년에 멸망한다.'"
            ],
            "application/vnd.google.colaboratory.intrinsic+json": {
              "type": "string"
            }
          },
          "metadata": {},
          "execution_count": 10
        }
      ],
      "source": [
        "an.secret"
      ]
    },
    {
      "cell_type": "code",
      "execution_count": 11,
      "id": "03217ff6-6f92-404a-9a47-63f119006d18",
      "metadata": {
        "colab": {
          "base_uri": "https://localhost:8080/"
        },
        "id": "03217ff6-6f92-404a-9a47-63f119006d18",
        "outputId": "a938e0e1-1def-4b34-ff3a-921df4d0cb5e"
      },
      "outputs": [
        {
          "output_type": "stream",
          "name": "stdout",
          "text": [
            "지구는 4006년에 멸망한다.\n",
            "지구가 4006년에 멸망한다는 사실은 뻥이다.\n"
          ]
        }
      ],
      "source": [
        "# 클래스 변수 공유\n",
        "print(Service.secret)\n",
        "Service.secret = '지구가 4006년에 멸망한다는 사실은 뻥이다.'\n",
        "print(an.secret)"
      ]
    },
    {
      "cell_type": "code",
      "execution_count": 12,
      "id": "995e56de-f188-4baa-9801-a8a1ba5aa709",
      "metadata": {
        "id": "995e56de-f188-4baa-9801-a8a1ba5aa709"
      },
      "outputs": [],
      "source": [
        "# 클래스 내부의 함수(메서드)\n",
        "class Service:\n",
        "    secret = \"지구는 4006년에 멸망한다.\"\n",
        "\n",
        "    def sum(self, a, b):\n",
        "        result = a + b\n",
        "        print(\"%s + %s = %s이다.\" % (a, b, result))"
      ]
    },
    {
      "cell_type": "code",
      "execution_count": 13,
      "id": "cab7e58f-257c-4f6b-8518-aed820e19d45",
      "metadata": {
        "id": "cab7e58f-257c-4f6b-8518-aed820e19d45"
      },
      "outputs": [],
      "source": [
        "an = Service()"
      ]
    },
    {
      "cell_type": "code",
      "execution_count": 14,
      "id": "f1d2b3ae-e4b9-47c4-94f0-d87048c1c647",
      "metadata": {
        "colab": {
          "base_uri": "https://localhost:8080/"
        },
        "id": "f1d2b3ae-e4b9-47c4-94f0-d87048c1c647",
        "outputId": "8c9d70e9-cb31-41d2-f74f-5e52297353c4"
      },
      "outputs": [
        {
          "output_type": "stream",
          "name": "stdout",
          "text": [
            "1 + 1 = 2이다.\n"
          ]
        }
      ],
      "source": [
        "an.sum(1,1)"
      ]
    },
    {
      "cell_type": "code",
      "execution_count": 15,
      "id": "72237ee5-5a55-40c2-be57-5acda59da182",
      "metadata": {
        "id": "72237ee5-5a55-40c2-be57-5acda59da182"
      },
      "outputs": [],
      "source": [
        "# 객체 변수\n",
        "class Service:\n",
        "    secret = \"지구는 4006년에 멸망한다.\"\n",
        "\n",
        "    def setname(self, name):\n",
        "        self.name = name\n",
        "\n",
        "    def sum(self, a, b):\n",
        "        result = a + b\n",
        "        print(\"%s님, %s + %s = %s이다.\" % (self.name, a, b, result))"
      ]
    },
    {
      "cell_type": "code",
      "execution_count": 16,
      "id": "1841162a-e358-484f-8a6b-3f448da986ec",
      "metadata": {
        "colab": {
          "base_uri": "https://localhost:8080/"
        },
        "id": "1841162a-e358-484f-8a6b-3f448da986ec",
        "outputId": "a2992fa8-4c84-4e18-c6a4-fae94fc6bdfe"
      },
      "outputs": [
        {
          "output_type": "stream",
          "name": "stdout",
          "text": [
            "박달도사님, 1 + 1 = 2이다.\n"
          ]
        }
      ],
      "source": [
        "an = Service()\n",
        "an.setname(\"박달도사\")\n",
        "an.sum(1,1)"
      ]
    },
    {
      "cell_type": "code",
      "execution_count": 17,
      "id": "828562c0-ce86-41f5-93b9-fab4d45340ea",
      "metadata": {
        "id": "828562c0-ce86-41f5-93b9-fab4d45340ea"
      },
      "outputs": [],
      "source": [
        "kim = Service()\n",
        "park = Service()\n",
        "kim.name = \"김정보\"\n",
        "park.name = \"박융합\""
      ]
    },
    {
      "cell_type": "code",
      "execution_count": 18,
      "id": "915aa468-401d-404e-8b8a-7ad747f9818b",
      "metadata": {
        "colab": {
          "base_uri": "https://localhost:8080/"
        },
        "id": "915aa468-401d-404e-8b8a-7ad747f9818b",
        "outputId": "4cc21306-be55-490d-a75a-bd241c2918a3"
      },
      "outputs": [
        {
          "output_type": "stream",
          "name": "stdout",
          "text": [
            "김정보\n"
          ]
        }
      ],
      "source": [
        "print(kim.name)"
      ]
    },
    {
      "cell_type": "code",
      "execution_count": 19,
      "id": "233eddc0-bc5e-44ba-93da-4988626d1c50",
      "metadata": {
        "colab": {
          "base_uri": "https://localhost:8080/"
        },
        "id": "233eddc0-bc5e-44ba-93da-4988626d1c50",
        "outputId": "38a6b1b2-41a4-4cda-f12d-b0bb38f1b5a0"
      },
      "outputs": [
        {
          "output_type": "stream",
          "name": "stdout",
          "text": [
            "박융합\n"
          ]
        }
      ],
      "source": [
        "print(park.name)"
      ]
    },
    {
      "cell_type": "code",
      "execution_count": 20,
      "id": "d577f2ec-54a2-42f6-8369-9f9d98dbb02a",
      "metadata": {
        "id": "d577f2ec-54a2-42f6-8369-9f9d98dbb02a"
      },
      "outputs": [],
      "source": [
        "kim.secret = \"비밀은 없다\""
      ]
    },
    {
      "cell_type": "code",
      "execution_count": 21,
      "id": "715f309a-d298-43f1-9dee-fd12ca6da5b2",
      "metadata": {
        "colab": {
          "base_uri": "https://localhost:8080/"
        },
        "id": "715f309a-d298-43f1-9dee-fd12ca6da5b2",
        "outputId": "46bc6ec3-5b8c-47c5-a523-13c455ec96ee"
      },
      "outputs": [
        {
          "output_type": "stream",
          "name": "stdout",
          "text": [
            "지구는 4006년에 멸망한다.\n"
          ]
        }
      ],
      "source": [
        "print(park.secret)"
      ]
    },
    {
      "cell_type": "code",
      "execution_count": 22,
      "id": "445760d1-93ed-4959-9c4a-e8bf861f8aa7",
      "metadata": {
        "colab": {
          "base_uri": "https://localhost:8080/"
        },
        "id": "445760d1-93ed-4959-9c4a-e8bf861f8aa7",
        "outputId": "8f545656-981f-4c94-fc10-99bbb92abd9a"
      },
      "outputs": [
        {
          "output_type": "stream",
          "name": "stdout",
          "text": [
            "비밀은 없다\n"
          ]
        }
      ],
      "source": [
        "print(kim.secret)"
      ]
    },
    {
      "cell_type": "code",
      "execution_count": 23,
      "id": "cbe00fa8-e536-4fca-bada-91823c252b1f",
      "metadata": {
        "colab": {
          "base_uri": "https://localhost:8080/",
          "height": 36
        },
        "id": "cbe00fa8-e536-4fca-bada-91823c252b1f",
        "outputId": "35419dca-9f1e-4c7a-8e8d-bdd8a00da714"
      },
      "outputs": [
        {
          "output_type": "execute_result",
          "data": {
            "text/plain": [
              "'지구는 4006년에 멸망한다.'"
            ],
            "application/vnd.google.colaboratory.intrinsic+json": {
              "type": "string"
            }
          },
          "metadata": {},
          "execution_count": 23
        }
      ],
      "source": [
        "Service.secret"
      ]
    },
    {
      "cell_type": "code",
      "execution_count": 24,
      "id": "984356c7-fa9d-467e-92d5-b8caff6fa73a",
      "metadata": {
        "id": "984356c7-fa9d-467e-92d5-b8caff6fa73a"
      },
      "outputs": [],
      "source": [
        "# __ init__\n",
        "#lee = Service()\n",
        "#lee.sum(1,1)"
      ]
    },
    {
      "cell_type": "code",
      "execution_count": 25,
      "id": "babaae22-2b27-436f-9235-0ecc2daca2ee",
      "metadata": {
        "id": "babaae22-2b27-436f-9235-0ecc2daca2ee"
      },
      "outputs": [],
      "source": [
        "# __init__\n",
        "class Service:\n",
        "    secret = \"지구는 4006년에 멸망한다.\"\n",
        "\n",
        "    def __init__(self, name):\n",
        "        self.name = name\n",
        "\n",
        "    def sum(self, a, b):\n",
        "        result = a + b\n",
        "        print(\"%s님, %s + %s = %s이다.\" % (self.name, a, b, result))"
      ]
    },
    {
      "cell_type": "code",
      "execution_count": 26,
      "id": "6b6b46bf-46bd-4344-9501-571c89decae8",
      "metadata": {
        "colab": {
          "base_uri": "https://localhost:8080/"
        },
        "id": "6b6b46bf-46bd-4344-9501-571c89decae8",
        "outputId": "c8dbcceb-e180-420f-a1fa-d5cb54c4ef20"
      },
      "outputs": [
        {
          "output_type": "stream",
          "name": "stdout",
          "text": [
            "박달도사님, 1 + 1 = 2이다.\n"
          ]
        }
      ],
      "source": [
        "an = Service(\"박달도사\")\n",
        "an.sum(1,1)"
      ]
    },
    {
      "cell_type": "code",
      "execution_count": 27,
      "id": "f8de52f7-d02b-4c79-8678-0e70100da5c4",
      "metadata": {
        "id": "f8de52f7-d02b-4c79-8678-0e70100da5c4"
      },
      "outputs": [],
      "source": [
        "# 사칙연산 클래스\n",
        "class FourCal:\n",
        "    pass"
      ]
    },
    {
      "cell_type": "code",
      "execution_count": 28,
      "id": "918094dc-ef1a-48b1-851b-bfc869eeaf69",
      "metadata": {
        "id": "918094dc-ef1a-48b1-851b-bfc869eeaf69"
      },
      "outputs": [],
      "source": [
        "a = FourCal()"
      ]
    },
    {
      "cell_type": "code",
      "execution_count": 29,
      "id": "07dc3035-1680-4170-95e0-422d10732454",
      "metadata": {
        "colab": {
          "base_uri": "https://localhost:8080/"
        },
        "id": "07dc3035-1680-4170-95e0-422d10732454",
        "outputId": "1ed3cab4-a887-4b8a-e24d-9344591fc82f"
      },
      "outputs": [
        {
          "output_type": "execute_result",
          "data": {
            "text/plain": [
              "__main__.FourCal"
            ]
          },
          "metadata": {},
          "execution_count": 29
        }
      ],
      "source": [
        "type(a)"
      ]
    },
    {
      "cell_type": "code",
      "execution_count": 30,
      "id": "1e47a4ec-c889-4d99-aaba-62160c57bf13",
      "metadata": {
        "id": "1e47a4ec-c889-4d99-aaba-62160c57bf13"
      },
      "outputs": [],
      "source": [
        "# 사칙연산 클래스\n",
        "class FourCal:\n",
        "    def setdata(self, first, second):\n",
        "        self.first = first\n",
        "        self.second = second"
      ]
    },
    {
      "cell_type": "code",
      "execution_count": 31,
      "id": "ac11d479-60f8-4714-ace1-51d38e5cce65",
      "metadata": {
        "id": "ac11d479-60f8-4714-ace1-51d38e5cce65"
      },
      "outputs": [],
      "source": [
        "a = FourCal()\n",
        "a.setdata(4,2)"
      ]
    },
    {
      "cell_type": "code",
      "execution_count": 32,
      "id": "b48e550e-2cfa-4df3-bdf1-e0647a18fd7f",
      "metadata": {
        "colab": {
          "base_uri": "https://localhost:8080/"
        },
        "id": "b48e550e-2cfa-4df3-bdf1-e0647a18fd7f",
        "outputId": "5df12adc-ef21-4f7a-c95e-08a65961ee07"
      },
      "outputs": [
        {
          "output_type": "execute_result",
          "data": {
            "text/plain": [
              "4"
            ]
          },
          "metadata": {},
          "execution_count": 32
        }
      ],
      "source": [
        "a.first"
      ]
    },
    {
      "cell_type": "code",
      "execution_count": 33,
      "id": "2c4b93a4-a399-424d-ac07-f1fb23a0d4b6",
      "metadata": {
        "colab": {
          "base_uri": "https://localhost:8080/"
        },
        "id": "2c4b93a4-a399-424d-ac07-f1fb23a0d4b6",
        "outputId": "4c5e30a2-bb50-46e0-9691-421c063e3a81"
      },
      "outputs": [
        {
          "output_type": "execute_result",
          "data": {
            "text/plain": [
              "2"
            ]
          },
          "metadata": {},
          "execution_count": 33
        }
      ],
      "source": [
        "a.second"
      ]
    },
    {
      "cell_type": "code",
      "execution_count": 34,
      "id": "47709971-c1aa-43eb-b646-aba05e77ad22",
      "metadata": {
        "id": "47709971-c1aa-43eb-b646-aba05e77ad22"
      },
      "outputs": [],
      "source": [
        "# 사칙연산 클래스\n",
        "class FourCal:\n",
        "    def setdata(self, first, second):\n",
        "        self.first = first\n",
        "        self.second = second\n",
        "\n",
        "    def sum(self):\n",
        "        result = self.first + self.second\n",
        "        return result"
      ]
    },
    {
      "cell_type": "code",
      "execution_count": 35,
      "id": "ec01bdfd-1d7e-479f-b140-12dd2aa766e2",
      "metadata": {
        "id": "ec01bdfd-1d7e-479f-b140-12dd2aa766e2"
      },
      "outputs": [],
      "source": [
        "a = FourCal()\n",
        "a.setdata(4,2)"
      ]
    },
    {
      "cell_type": "code",
      "execution_count": 36,
      "id": "0f2d66f7-966e-4d22-b906-6fb43063b871",
      "metadata": {
        "colab": {
          "base_uri": "https://localhost:8080/"
        },
        "id": "0f2d66f7-966e-4d22-b906-6fb43063b871",
        "outputId": "2fab95ba-ca99-4ee0-9b72-af963f69c124"
      },
      "outputs": [
        {
          "output_type": "execute_result",
          "data": {
            "text/plain": [
              "6"
            ]
          },
          "metadata": {},
          "execution_count": 36
        }
      ],
      "source": [
        "a.sum()"
      ]
    },
    {
      "cell_type": "code",
      "execution_count": 37,
      "id": "741af56e-1959-4125-8b41-a04698af81d8",
      "metadata": {
        "id": "741af56e-1959-4125-8b41-a04698af81d8"
      },
      "outputs": [],
      "source": [
        "# 사칙연산 클래스\n",
        "class FourCal:\n",
        "    def setdata(self, first, second):\n",
        "        self.first = first\n",
        "        self.second = second\n",
        "\n",
        "    def sum(self):\n",
        "        result = self.first + self.second\n",
        "        return result\n",
        "\n",
        "    def mul(self):\n",
        "        result = self.first * self.second\n",
        "        return result\n",
        "\n",
        "    def sub(self):\n",
        "        result = self.first - self.second\n",
        "        return result\n",
        "\n",
        "    def div(self):\n",
        "        result = self.first / self.second\n",
        "        return result"
      ]
    },
    {
      "cell_type": "code",
      "execution_count": 38,
      "id": "05228654-2e16-4f07-9626-fe9d91a73dc2",
      "metadata": {
        "id": "05228654-2e16-4f07-9626-fe9d91a73dc2"
      },
      "outputs": [],
      "source": [
        "a = FourCal()\n",
        "b = FourCal()\n",
        "a.setdata(4,2)\n",
        "b.setdata(3,7)"
      ]
    },
    {
      "cell_type": "code",
      "execution_count": 39,
      "id": "eea8ade9-8f5c-48e3-8227-97f3cf57caeb",
      "metadata": {
        "colab": {
          "base_uri": "https://localhost:8080/"
        },
        "id": "eea8ade9-8f5c-48e3-8227-97f3cf57caeb",
        "outputId": "8c14b2f6-42d2-44a8-f3d9-6c53cffca7d9"
      },
      "outputs": [
        {
          "output_type": "execute_result",
          "data": {
            "text/plain": [
              "6"
            ]
          },
          "metadata": {},
          "execution_count": 39
        }
      ],
      "source": [
        "a.sum()"
      ]
    },
    {
      "cell_type": "code",
      "execution_count": 40,
      "id": "f0a17286-08d1-4336-a563-d0ad00eeb499",
      "metadata": {
        "colab": {
          "base_uri": "https://localhost:8080/"
        },
        "id": "f0a17286-08d1-4336-a563-d0ad00eeb499",
        "outputId": "ca7df122-3b2e-4f8f-fe75-3105b8b8afe7"
      },
      "outputs": [
        {
          "output_type": "execute_result",
          "data": {
            "text/plain": [
              "8"
            ]
          },
          "metadata": {},
          "execution_count": 40
        }
      ],
      "source": [
        "a.mul()"
      ]
    },
    {
      "cell_type": "code",
      "execution_count": 41,
      "id": "bdaf53cb-34d8-4135-be38-6e737ed79582",
      "metadata": {
        "colab": {
          "base_uri": "https://localhost:8080/"
        },
        "id": "bdaf53cb-34d8-4135-be38-6e737ed79582",
        "outputId": "46c04114-5f16-47d1-d89e-1224f847b2b1"
      },
      "outputs": [
        {
          "output_type": "execute_result",
          "data": {
            "text/plain": [
              "2"
            ]
          },
          "metadata": {},
          "execution_count": 41
        }
      ],
      "source": [
        "a.sub()"
      ]
    },
    {
      "cell_type": "code",
      "execution_count": 42,
      "id": "4a060c8e-d853-4412-af74-b3bfc25d3311",
      "metadata": {
        "colab": {
          "base_uri": "https://localhost:8080/"
        },
        "id": "4a060c8e-d853-4412-af74-b3bfc25d3311",
        "outputId": "723acf24-2928-4820-dcad-5ffa44de6e62"
      },
      "outputs": [
        {
          "output_type": "execute_result",
          "data": {
            "text/plain": [
              "2.0"
            ]
          },
          "metadata": {},
          "execution_count": 42
        }
      ],
      "source": [
        "a.div()"
      ]
    },
    {
      "cell_type": "code",
      "execution_count": 43,
      "id": "a6784d6e-1125-44b6-9c63-382b22501ecd",
      "metadata": {
        "colab": {
          "base_uri": "https://localhost:8080/"
        },
        "id": "a6784d6e-1125-44b6-9c63-382b22501ecd",
        "outputId": "4aeee6a0-07e1-488c-dc69-a91e27816775"
      },
      "outputs": [
        {
          "output_type": "execute_result",
          "data": {
            "text/plain": [
              "-4"
            ]
          },
          "metadata": {},
          "execution_count": 43
        }
      ],
      "source": [
        "b.sub()"
      ]
    },
    {
      "cell_type": "code",
      "execution_count": 44,
      "id": "b7f99b40-be83-41af-9515-2a60ca4d5a93",
      "metadata": {
        "id": "b7f99b40-be83-41af-9515-2a60ca4d5a93"
      },
      "outputs": [],
      "source": [
        "# 주사위 게임 - 순차적 프로그래밍\n",
        "import random\n",
        "\n",
        "player1_dice = []\n",
        "player2_dice = []\n",
        "\n",
        "for i in range(3):\n",
        "    player1_dice.append(random.randint(1, 6))\n",
        "    player2_dice.append(random.randint(1, 6))"
      ]
    },
    {
      "cell_type": "code",
      "execution_count": 45,
      "id": "0b8abc40-45fd-4eae-b476-659763fd84a8",
      "metadata": {
        "colab": {
          "base_uri": "https://localhost:8080/"
        },
        "id": "0b8abc40-45fd-4eae-b476-659763fd84a8",
        "outputId": "fb442c2e-7870-4c1a-c617-0f1a9fecf0eb"
      },
      "outputs": [
        {
          "output_type": "stream",
          "name": "stdout",
          "text": [
            "Player 1 rolled[1, 2, 6]\n",
            "Player 2 rolled[5, 4, 5]\n"
          ]
        }
      ],
      "source": [
        "print(\"Player 1 rolled\" + str(player1_dice))\n",
        "print(\"Player 2 rolled\" + str(player2_dice))"
      ]
    },
    {
      "cell_type": "code",
      "execution_count": 46,
      "id": "5a4664c6-b77e-451c-9d99-68de76cfdf10",
      "metadata": {
        "colab": {
          "base_uri": "https://localhost:8080/"
        },
        "id": "5a4664c6-b77e-451c-9d99-68de76cfdf10",
        "outputId": "e0ff4ac9-62e3-4808-962b-fb4a8027b591"
      },
      "outputs": [
        {
          "output_type": "stream",
          "name": "stdout",
          "text": [
            "Player2 wins\n"
          ]
        }
      ],
      "source": [
        "if sum(player1_dice) == sum(player2_dice):\n",
        "    print(\"Draw\")\n",
        "elif sum(player1_dice) > sum(player2_dice):\n",
        "    print(\"Player1 wins\")\n",
        "else:\n",
        "    print(\"Player2 wins\")"
      ]
    },
    {
      "cell_type": "code",
      "execution_count": 47,
      "id": "6047fb4e-0b9d-4520-b55b-4ab576f3e01d",
      "metadata": {
        "id": "6047fb4e-0b9d-4520-b55b-4ab576f3e01d"
      },
      "outputs": [],
      "source": [
        "# 주사위 게임 - OOP\n",
        "from random import randint\n",
        "\n",
        "class Player:\n",
        "    def __init__(self):\n",
        "        self.dice = []\n",
        "\n",
        "    def roll(self):\n",
        "        self.dice = []\n",
        "        for i in range(3):\n",
        "            self.dice.append(randint(1, 6))\n",
        "\n",
        "    def get_dice(self):\n",
        "        return self.dice"
      ]
    },
    {
      "cell_type": "code",
      "execution_count": 48,
      "id": "e6f6167b-98c1-4f3c-9324-fe4f96dbefd9",
      "metadata": {
        "id": "e6f6167b-98c1-4f3c-9324-fe4f96dbefd9"
      },
      "outputs": [],
      "source": [
        "player1 = Player()\n",
        "player2 = Player()\n",
        "\n",
        "player1.roll()\n",
        "player2.roll()"
      ]
    },
    {
      "cell_type": "code",
      "execution_count": 49,
      "id": "b2eda333-177a-4a45-a72b-34607d04734e",
      "metadata": {
        "colab": {
          "base_uri": "https://localhost:8080/"
        },
        "id": "b2eda333-177a-4a45-a72b-34607d04734e",
        "outputId": "7d002ee8-6472-4740-8064-4bb37eddca3b"
      },
      "outputs": [
        {
          "output_type": "stream",
          "name": "stdout",
          "text": [
            "Player 1 rolled[1, 5, 5]\n",
            "Player 2 rolled[5, 5, 3]\n"
          ]
        }
      ],
      "source": [
        "print(\"Player 1 rolled\" + str(player1.get_dice()))\n",
        "print(\"Player 2 rolled\" + str(player2.get_dice()))"
      ]
    },
    {
      "cell_type": "code",
      "execution_count": 50,
      "id": "aecee5bb-107a-476e-828b-4e02c27968d2",
      "metadata": {
        "colab": {
          "base_uri": "https://localhost:8080/"
        },
        "id": "aecee5bb-107a-476e-828b-4e02c27968d2",
        "outputId": "50b43417-2475-4ff6-e803-2168f017a8a7"
      },
      "outputs": [
        {
          "output_type": "stream",
          "name": "stdout",
          "text": [
            "Player2 wins\n"
          ]
        }
      ],
      "source": [
        "if sum(player1.get_dice()) == sum(player2.get_dice()):\n",
        "    print(\"Draw\")\n",
        "elif sum(player1.get_dice()) > sum(player2.get_dice()):\n",
        "    print(\"Player1 wins\")\n",
        "else:\n",
        "    print(\"Player2 wins\")"
      ]
    }
  ],
  "metadata": {
    "kernelspec": {
      "display_name": "Python 3 (ipykernel)",
      "language": "python",
      "name": "python3"
    },
    "language_info": {
      "codemirror_mode": {
        "name": "ipython",
        "version": 3
      },
      "file_extension": ".py",
      "mimetype": "text/x-python",
      "name": "python",
      "nbconvert_exporter": "python",
      "pygments_lexer": "ipython3",
      "version": "3.10.0"
    },
    "colab": {
      "provenance": [],
      "include_colab_link": true
    }
  },
  "nbformat": 4,
  "nbformat_minor": 5
}