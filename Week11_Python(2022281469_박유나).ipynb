{
  "cells": [
    {
      "cell_type": "markdown",
      "metadata": {
        "id": "view-in-github",
        "colab_type": "text"
      },
      "source": [
        "<a href=\"https://colab.research.google.com/github/YounaPark-lynn/python_programming/blob/main/Week11_Python(2022281469_%E1%84%87%E1%85%A1%E1%86%A8%E1%84%8B%E1%85%B2%E1%84%82%E1%85%A1).ipynb\" target=\"_parent\"><img src=\"https://colab.research.google.com/assets/colab-badge.svg\" alt=\"Open In Colab\"/></a>"
      ]
    },
    {
      "cell_type": "markdown",
      "id": "6d83bdc3-1dce-4fcd-8857-ee55f67002d4",
      "metadata": {
        "id": "6d83bdc3-1dce-4fcd-8857-ee55f67002d4"
      },
      "source": [
        "### Numpy"
      ]
    },
    {
      "cell_type": "code",
      "execution_count": 1,
      "id": "18bc919a-d812-40c1-bdae-fef0ab616b63",
      "metadata": {
        "id": "18bc919a-d812-40c1-bdae-fef0ab616b63"
      },
      "outputs": [],
      "source": [
        "#pip install numpy"
      ]
    },
    {
      "cell_type": "code",
      "execution_count": 2,
      "id": "e7c63a56-8df1-440a-b09d-49f18c131a89",
      "metadata": {
        "id": "e7c63a56-8df1-440a-b09d-49f18c131a89"
      },
      "outputs": [],
      "source": [
        "# How to import NumPy\n",
        "import numpy as np"
      ]
    },
    {
      "cell_type": "code",
      "execution_count": 3,
      "id": "aee41547-0c67-4913-af8b-e8e28b9964d8",
      "metadata": {
        "id": "aee41547-0c67-4913-af8b-e8e28b9964d8",
        "outputId": "f0e1d7a3-d1a7-4574-c6a6-99a9f23d8c89",
        "colab": {
          "base_uri": "https://localhost:8080/"
        }
      },
      "outputs": [
        {
          "output_type": "execute_result",
          "data": {
            "text/plain": [
              "(1, 6)"
            ]
          },
          "metadata": {},
          "execution_count": 3
        }
      ],
      "source": [
        "# Reading the example code\n",
        "a = np.arange(6)\n",
        "a2 = a[np.newaxis, :]\n",
        "a2.shape"
      ]
    },
    {
      "cell_type": "code",
      "execution_count": 4,
      "id": "1f8a0dba-bef1-45d7-9387-79f070c5bebd",
      "metadata": {
        "id": "1f8a0dba-bef1-45d7-9387-79f070c5bebd",
        "outputId": "431a4187-7da2-4d51-a508-2b31495c3364",
        "colab": {
          "base_uri": "https://localhost:8080/"
        }
      },
      "outputs": [
        {
          "output_type": "execute_result",
          "data": {
            "text/plain": [
              "array([[0, 1, 2, 3, 4, 5]])"
            ]
          },
          "metadata": {},
          "execution_count": 4
        }
      ],
      "source": [
        "# What is an array?\n",
        "a2"
      ]
    },
    {
      "cell_type": "code",
      "execution_count": 5,
      "id": "fee5325b-eacc-414c-9ae5-d001831abccc",
      "metadata": {
        "id": "fee5325b-eacc-414c-9ae5-d001831abccc",
        "outputId": "8df5bf7b-577a-48b0-a26c-90ce64a77a40",
        "colab": {
          "base_uri": "https://localhost:8080/"
        }
      },
      "outputs": [
        {
          "output_type": "execute_result",
          "data": {
            "text/plain": [
              "array([0, 1, 2, 3, 4, 5])"
            ]
          },
          "metadata": {},
          "execution_count": 5
        }
      ],
      "source": [
        "a"
      ]
    },
    {
      "cell_type": "code",
      "execution_count": 6,
      "id": "eb18890e-b455-4967-9978-4dacab6023a3",
      "metadata": {
        "id": "eb18890e-b455-4967-9978-4dacab6023a3"
      },
      "outputs": [],
      "source": [
        "a = np.array([1, 2, 3, 4, 5, 6])"
      ]
    },
    {
      "cell_type": "code",
      "execution_count": 7,
      "id": "488a6635-2c2b-48d5-8486-8d7eee851b6c",
      "metadata": {
        "id": "488a6635-2c2b-48d5-8486-8d7eee851b6c"
      },
      "outputs": [],
      "source": [
        "a = np.array([[1, 2, 3, 4], [5, 6, 7, 8], [9, 10, 11, 12]])"
      ]
    },
    {
      "cell_type": "code",
      "execution_count": 8,
      "id": "e8b14166-fbc5-4219-8cf2-20fe28d10de6",
      "metadata": {
        "id": "e8b14166-fbc5-4219-8cf2-20fe28d10de6",
        "outputId": "967db6b3-07cb-4a3f-feda-b32095c3a90f",
        "colab": {
          "base_uri": "https://localhost:8080/"
        }
      },
      "outputs": [
        {
          "output_type": "stream",
          "name": "stdout",
          "text": [
            "[1 2 3 4]\n"
          ]
        }
      ],
      "source": [
        "print(a[0])"
      ]
    },
    {
      "cell_type": "code",
      "execution_count": 9,
      "id": "3aea00d3-c649-4525-9f8b-d01f2467e165",
      "metadata": {
        "id": "3aea00d3-c649-4525-9f8b-d01f2467e165",
        "outputId": "703712ea-cd4f-40c2-e4fa-467eea493cee",
        "colab": {
          "base_uri": "https://localhost:8080/"
        }
      },
      "outputs": [
        {
          "output_type": "execute_result",
          "data": {
            "text/plain": [
              "[[0.0, 0.0, 0.0], [1.0, 1.0, 1.0]]"
            ]
          },
          "metadata": {},
          "execution_count": 9
        }
      ],
      "source": [
        "# More information about arrays\n",
        "[[0., 0., 0.],\n",
        " [1., 1., 1.]]"
      ]
    },
    {
      "cell_type": "code",
      "execution_count": 10,
      "id": "9c12494b-703f-4d31-85c5-a4b1b089bcd1",
      "metadata": {
        "id": "9c12494b-703f-4d31-85c5-a4b1b089bcd1"
      },
      "outputs": [],
      "source": [
        "# How to create a basic array\n",
        "a = np.array([1, 2, 3])"
      ]
    },
    {
      "cell_type": "code",
      "execution_count": 11,
      "id": "d8471de7-acf0-482c-8c39-bb39e41ca071",
      "metadata": {
        "id": "d8471de7-acf0-482c-8c39-bb39e41ca071",
        "outputId": "f8f2ffed-6c2d-4d82-8e8e-3160e3b54e09",
        "colab": {
          "base_uri": "https://localhost:8080/"
        }
      },
      "outputs": [
        {
          "output_type": "execute_result",
          "data": {
            "text/plain": [
              "array([0., 0.])"
            ]
          },
          "metadata": {},
          "execution_count": 11
        }
      ],
      "source": [
        "np.zeros(2)"
      ]
    },
    {
      "cell_type": "code",
      "execution_count": 12,
      "id": "1513c4de-6229-4454-b244-2a23b7199a8e",
      "metadata": {
        "id": "1513c4de-6229-4454-b244-2a23b7199a8e",
        "outputId": "f7712916-fd7f-47da-e552-cbee3e8e7b35",
        "colab": {
          "base_uri": "https://localhost:8080/"
        }
      },
      "outputs": [
        {
          "output_type": "execute_result",
          "data": {
            "text/plain": [
              "array([1., 1.])"
            ]
          },
          "metadata": {},
          "execution_count": 12
        }
      ],
      "source": [
        "np.ones(2)"
      ]
    },
    {
      "cell_type": "code",
      "execution_count": 13,
      "id": "8f4d8b6e-0356-494a-98d1-4937d89bfdeb",
      "metadata": {
        "id": "8f4d8b6e-0356-494a-98d1-4937d89bfdeb",
        "outputId": "19f4ba03-6104-42a2-c881-23f1b6824dfa",
        "colab": {
          "base_uri": "https://localhost:8080/"
        }
      },
      "outputs": [
        {
          "output_type": "execute_result",
          "data": {
            "text/plain": [
              "array([1., 1.])"
            ]
          },
          "metadata": {},
          "execution_count": 13
        }
      ],
      "source": [
        "np.empty(2)"
      ]
    },
    {
      "cell_type": "code",
      "execution_count": 14,
      "id": "92fcef7a-4c78-4476-aa82-b09a9541b09f",
      "metadata": {
        "id": "92fcef7a-4c78-4476-aa82-b09a9541b09f",
        "outputId": "468f9092-b231-442d-9215-08a13a8206fb",
        "colab": {
          "base_uri": "https://localhost:8080/"
        }
      },
      "outputs": [
        {
          "output_type": "execute_result",
          "data": {
            "text/plain": [
              "array([0, 1, 2, 3])"
            ]
          },
          "metadata": {},
          "execution_count": 14
        }
      ],
      "source": [
        "np.arange(4)"
      ]
    },
    {
      "cell_type": "code",
      "execution_count": 15,
      "id": "178aa6a3-8efc-4fce-b033-c555c5041584",
      "metadata": {
        "id": "178aa6a3-8efc-4fce-b033-c555c5041584",
        "outputId": "bcb45eb7-b3fe-4e49-ac26-66e21a1908e7",
        "colab": {
          "base_uri": "https://localhost:8080/"
        }
      },
      "outputs": [
        {
          "output_type": "execute_result",
          "data": {
            "text/plain": [
              "array([2, 4, 6, 8])"
            ]
          },
          "metadata": {},
          "execution_count": 15
        }
      ],
      "source": [
        "np.arange(2, 9, 2)"
      ]
    },
    {
      "cell_type": "code",
      "execution_count": 16,
      "id": "64805f01-a715-423f-ab88-ff57ba6f5f1c",
      "metadata": {
        "id": "64805f01-a715-423f-ab88-ff57ba6f5f1c",
        "outputId": "10dd1872-e24f-46a4-902c-0b628b63576c",
        "colab": {
          "base_uri": "https://localhost:8080/"
        }
      },
      "outputs": [
        {
          "output_type": "execute_result",
          "data": {
            "text/plain": [
              "array([ 0. ,  2.5,  5. ,  7.5, 10. ])"
            ]
          },
          "metadata": {},
          "execution_count": 16
        }
      ],
      "source": [
        "np.linspace(0, 10, num=5)"
      ]
    },
    {
      "cell_type": "code",
      "execution_count": 17,
      "id": "5094bd0d-898e-4547-98b5-1f6f42c3bb92",
      "metadata": {
        "id": "5094bd0d-898e-4547-98b5-1f6f42c3bb92",
        "outputId": "68b255f0-da58-4c14-fa35-aa8028c31848",
        "colab": {
          "base_uri": "https://localhost:8080/"
        }
      },
      "outputs": [
        {
          "output_type": "execute_result",
          "data": {
            "text/plain": [
              "array([1, 1])"
            ]
          },
          "metadata": {},
          "execution_count": 17
        }
      ],
      "source": [
        "x = np.ones(2, dtype=np.int64)\n",
        "x"
      ]
    },
    {
      "cell_type": "code",
      "execution_count": 18,
      "id": "d43ac6af-8bf7-49e3-b030-9606b94771c5",
      "metadata": {
        "id": "d43ac6af-8bf7-49e3-b030-9606b94771c5",
        "outputId": "97b27980-bb15-4d85-8f6f-a68e227242b4",
        "colab": {
          "base_uri": "https://localhost:8080/"
        }
      },
      "outputs": [
        {
          "output_type": "execute_result",
          "data": {
            "text/plain": [
              "array([1, 2, 3, 4, 5, 6, 7, 8])"
            ]
          },
          "metadata": {},
          "execution_count": 18
        }
      ],
      "source": [
        "# Adding, removing, and sorting elements\n",
        "arr = np.array([2, 1, 5, 3, 7, 4, 6, 8])\n",
        "np.sort(arr)"
      ]
    },
    {
      "cell_type": "code",
      "execution_count": 19,
      "id": "f0c16b1a-7361-4ce0-b617-5300cf1adcaf",
      "metadata": {
        "id": "f0c16b1a-7361-4ce0-b617-5300cf1adcaf"
      },
      "outputs": [],
      "source": [
        "a = np.array([1, 2, 3, 4])\n",
        "b = np.array([5, 6, 7, 8])"
      ]
    },
    {
      "cell_type": "code",
      "execution_count": 20,
      "id": "900cbbb4-8980-47e0-a490-cb239416252a",
      "metadata": {
        "id": "900cbbb4-8980-47e0-a490-cb239416252a",
        "outputId": "95239585-eb1e-4639-f5fc-f7781f05d65d",
        "colab": {
          "base_uri": "https://localhost:8080/"
        }
      },
      "outputs": [
        {
          "output_type": "execute_result",
          "data": {
            "text/plain": [
              "array([1, 2, 3, 4, 5, 6, 7, 8])"
            ]
          },
          "metadata": {},
          "execution_count": 20
        }
      ],
      "source": [
        "np.concatenate((a, b))"
      ]
    },
    {
      "cell_type": "code",
      "execution_count": 21,
      "id": "00b2fb80-767d-453c-a188-e4ea780272f0",
      "metadata": {
        "id": "00b2fb80-767d-453c-a188-e4ea780272f0"
      },
      "outputs": [],
      "source": [
        "x = np.array([[1, 2], [3, 4]])\n",
        "y = np.array([[5, 6]])"
      ]
    },
    {
      "cell_type": "code",
      "execution_count": 22,
      "id": "445a2e8e-07cc-40b5-a705-83fa5739edb0",
      "metadata": {
        "id": "445a2e8e-07cc-40b5-a705-83fa5739edb0",
        "outputId": "4e480cde-1d8c-46e8-910a-6ccf3c525f18",
        "colab": {
          "base_uri": "https://localhost:8080/"
        }
      },
      "outputs": [
        {
          "output_type": "execute_result",
          "data": {
            "text/plain": [
              "array([[1, 2],\n",
              "       [3, 4],\n",
              "       [5, 6]])"
            ]
          },
          "metadata": {},
          "execution_count": 22
        }
      ],
      "source": [
        "np.concatenate((x, y), axis=0)"
      ]
    },
    {
      "cell_type": "code",
      "execution_count": 23,
      "id": "56313d20-45dd-4943-ad7b-5406f3812b84",
      "metadata": {
        "id": "56313d20-45dd-4943-ad7b-5406f3812b84"
      },
      "outputs": [],
      "source": [
        "array_example = np.array([[[0, 1, 2, 3],\n",
        "                           [4, 5, 6, 7]],\n",
        "                          [[0, 1, 2, 3],\n",
        "                           [4, 5, 6, 7]],\n",
        "                          [[0 ,1 ,2, 3],\n",
        "                           [4, 5, 6, 7]]])"
      ]
    },
    {
      "cell_type": "code",
      "execution_count": 24,
      "id": "c35460a2-0546-4dc5-b84b-dd5de4f17d78",
      "metadata": {
        "id": "c35460a2-0546-4dc5-b84b-dd5de4f17d78",
        "outputId": "a61cc5df-c0e6-4cae-d8bd-15e2fb7dffd5",
        "colab": {
          "base_uri": "https://localhost:8080/"
        }
      },
      "outputs": [
        {
          "output_type": "execute_result",
          "data": {
            "text/plain": [
              "3"
            ]
          },
          "metadata": {},
          "execution_count": 24
        }
      ],
      "source": [
        "array_example.ndim"
      ]
    },
    {
      "cell_type": "code",
      "execution_count": 25,
      "id": "d88e2c1d-e9f9-40b5-8f46-43cd57bceeea",
      "metadata": {
        "id": "d88e2c1d-e9f9-40b5-8f46-43cd57bceeea",
        "outputId": "d8031628-0c43-4180-84be-be66165016ce",
        "colab": {
          "base_uri": "https://localhost:8080/"
        }
      },
      "outputs": [
        {
          "output_type": "execute_result",
          "data": {
            "text/plain": [
              "24"
            ]
          },
          "metadata": {},
          "execution_count": 25
        }
      ],
      "source": [
        "array_example.size"
      ]
    },
    {
      "cell_type": "code",
      "execution_count": 26,
      "id": "799fae18-6fb2-49c3-bc85-102a892c0f66",
      "metadata": {
        "id": "799fae18-6fb2-49c3-bc85-102a892c0f66",
        "outputId": "bb70a833-c4bc-4289-9f70-171cb42a3fb9",
        "colab": {
          "base_uri": "https://localhost:8080/"
        }
      },
      "outputs": [
        {
          "output_type": "execute_result",
          "data": {
            "text/plain": [
              "(3, 2, 4)"
            ]
          },
          "metadata": {},
          "execution_count": 26
        }
      ],
      "source": [
        "array_example.shape"
      ]
    },
    {
      "cell_type": "code",
      "execution_count": 27,
      "id": "feb28c21-767f-4b33-ab85-2c8506eff59e",
      "metadata": {
        "id": "feb28c21-767f-4b33-ab85-2c8506eff59e",
        "outputId": "04e70385-d7e1-44b8-e602-a7df6f192f66",
        "colab": {
          "base_uri": "https://localhost:8080/"
        }
      },
      "outputs": [
        {
          "output_type": "execute_result",
          "data": {
            "text/plain": [
              "array([0, 1, 2, 3, 4, 5])"
            ]
          },
          "metadata": {},
          "execution_count": 27
        }
      ],
      "source": [
        "a = np.arange(6)\n",
        "a"
      ]
    },
    {
      "cell_type": "code",
      "execution_count": 28,
      "id": "77551356-ace4-4d2e-b449-d3424685ac89",
      "metadata": {
        "id": "77551356-ace4-4d2e-b449-d3424685ac89",
        "outputId": "1afa1700-866b-41cf-add6-1f76e1120224",
        "colab": {
          "base_uri": "https://localhost:8080/"
        }
      },
      "outputs": [
        {
          "output_type": "execute_result",
          "data": {
            "text/plain": [
              "array([[0, 1],\n",
              "       [2, 3],\n",
              "       [4, 5]])"
            ]
          },
          "metadata": {},
          "execution_count": 28
        }
      ],
      "source": [
        "b = a.reshape(3, 2)\n",
        "b"
      ]
    },
    {
      "cell_type": "code",
      "execution_count": 29,
      "id": "8f94fc27-9c6e-46be-9a3a-a480a0052a3b",
      "metadata": {
        "id": "8f94fc27-9c6e-46be-9a3a-a480a0052a3b",
        "outputId": "fa8f17b7-f6f0-423d-e9dd-1a83929d47f1",
        "colab": {
          "base_uri": "https://localhost:8080/"
        }
      },
      "outputs": [
        {
          "output_type": "execute_result",
          "data": {
            "text/plain": [
              "array([[0, 1, 2, 3, 4, 5]])"
            ]
          },
          "metadata": {},
          "execution_count": 29
        }
      ],
      "source": [
        "np.reshape(a, newshape=(1, 6), order='C')"
      ]
    },
    {
      "cell_type": "code",
      "execution_count": 30,
      "id": "2cf2953e-0f52-449f-aa3c-0c95e717a0fc",
      "metadata": {
        "id": "2cf2953e-0f52-449f-aa3c-0c95e717a0fc",
        "outputId": "d78eabc9-13e6-47be-d0a8-2a072e396d9c",
        "colab": {
          "base_uri": "https://localhost:8080/"
        }
      },
      "outputs": [
        {
          "output_type": "execute_result",
          "data": {
            "text/plain": [
              "(6,)"
            ]
          },
          "metadata": {},
          "execution_count": 30
        }
      ],
      "source": [
        "# How to convert a 1D array into a 2D array (how to add a new axis to an array)\n",
        "a = np.array([1, 2, 3, 4, 5, 6])\n",
        "a.shape"
      ]
    },
    {
      "cell_type": "code",
      "execution_count": 31,
      "id": "68323210-fa3e-4a08-8be4-3e86e98e88c1",
      "metadata": {
        "id": "68323210-fa3e-4a08-8be4-3e86e98e88c1",
        "outputId": "0a100187-8374-4f35-acad-fdd621409dcb",
        "colab": {
          "base_uri": "https://localhost:8080/"
        }
      },
      "outputs": [
        {
          "output_type": "execute_result",
          "data": {
            "text/plain": [
              "(1, 6)"
            ]
          },
          "metadata": {},
          "execution_count": 31
        }
      ],
      "source": [
        "a2 = a[np.newaxis, :]\n",
        "a2.shape"
      ]
    },
    {
      "cell_type": "code",
      "execution_count": 32,
      "id": "1471a81c-e876-48a9-a165-ca506cd484f0",
      "metadata": {
        "id": "1471a81c-e876-48a9-a165-ca506cd484f0",
        "outputId": "b9644711-40c0-4b1d-f5a6-c96ef61ced7f",
        "colab": {
          "base_uri": "https://localhost:8080/"
        }
      },
      "outputs": [
        {
          "output_type": "execute_result",
          "data": {
            "text/plain": [
              "(1, 6)"
            ]
          },
          "metadata": {},
          "execution_count": 32
        }
      ],
      "source": [
        "row_vector = a[np.newaxis, :]\n",
        "row_vector.shape"
      ]
    },
    {
      "cell_type": "code",
      "execution_count": 33,
      "id": "3db9882b-1c1d-42e4-beda-591f865df1ef",
      "metadata": {
        "id": "3db9882b-1c1d-42e4-beda-591f865df1ef",
        "outputId": "54dbcb2b-6e54-4647-9569-4004d97a80ad",
        "colab": {
          "base_uri": "https://localhost:8080/"
        }
      },
      "outputs": [
        {
          "output_type": "execute_result",
          "data": {
            "text/plain": [
              "(6, 1)"
            ]
          },
          "metadata": {},
          "execution_count": 33
        }
      ],
      "source": [
        "col_vector = a[:, np.newaxis]\n",
        "col_vector.shape"
      ]
    },
    {
      "cell_type": "code",
      "execution_count": 34,
      "id": "0eee4565-e2eb-40c7-a50b-e60b541028b3",
      "metadata": {
        "id": "0eee4565-e2eb-40c7-a50b-e60b541028b3",
        "outputId": "92709063-9444-4c37-d622-64af08f61da4",
        "colab": {
          "base_uri": "https://localhost:8080/"
        }
      },
      "outputs": [
        {
          "output_type": "execute_result",
          "data": {
            "text/plain": [
              "(6,)"
            ]
          },
          "metadata": {},
          "execution_count": 34
        }
      ],
      "source": [
        "a = np.array([1, 2, 3, 4, 5, 6])\n",
        "a.shape"
      ]
    },
    {
      "cell_type": "code",
      "execution_count": 35,
      "id": "3043b59f-c11e-422e-b4be-2400893860fa",
      "metadata": {
        "id": "3043b59f-c11e-422e-b4be-2400893860fa",
        "outputId": "45ec224d-a602-4191-ce17-d2346eda5992",
        "colab": {
          "base_uri": "https://localhost:8080/"
        }
      },
      "outputs": [
        {
          "output_type": "execute_result",
          "data": {
            "text/plain": [
              "(6, 1)"
            ]
          },
          "metadata": {},
          "execution_count": 35
        }
      ],
      "source": [
        "b = np.expand_dims(a, axis=1)\n",
        "b.shape"
      ]
    },
    {
      "cell_type": "code",
      "execution_count": 36,
      "id": "4e4ee5bd-aa3e-460c-9e40-6b000de3656b",
      "metadata": {
        "id": "4e4ee5bd-aa3e-460c-9e40-6b000de3656b",
        "outputId": "560ba5a8-66cb-4d02-f4dd-8084878fb425",
        "colab": {
          "base_uri": "https://localhost:8080/"
        }
      },
      "outputs": [
        {
          "output_type": "execute_result",
          "data": {
            "text/plain": [
              "(1, 6)"
            ]
          },
          "metadata": {},
          "execution_count": 36
        }
      ],
      "source": [
        "c = np.expand_dims(a, axis=0)\n",
        "c.shape"
      ]
    },
    {
      "cell_type": "code",
      "execution_count": 37,
      "id": "8e3b7fda-f8ef-4147-a31a-f172b0e218c0",
      "metadata": {
        "id": "8e3b7fda-f8ef-4147-a31a-f172b0e218c0"
      },
      "outputs": [],
      "source": [
        "# Indexing and slicing\n",
        "data = np.array([1, 2, 3])"
      ]
    },
    {
      "cell_type": "code",
      "execution_count": 38,
      "id": "c0d54368-43ab-4622-a9f8-d4f45c05ba7d",
      "metadata": {
        "id": "c0d54368-43ab-4622-a9f8-d4f45c05ba7d",
        "outputId": "d6728e97-8bd0-40e1-ebab-fdae0dd33303",
        "colab": {
          "base_uri": "https://localhost:8080/"
        }
      },
      "outputs": [
        {
          "output_type": "execute_result",
          "data": {
            "text/plain": [
              "2"
            ]
          },
          "metadata": {},
          "execution_count": 38
        }
      ],
      "source": [
        "data[1]"
      ]
    },
    {
      "cell_type": "code",
      "execution_count": 39,
      "id": "54c81e88-ac96-44e9-b4c7-d2147435d408",
      "metadata": {
        "id": "54c81e88-ac96-44e9-b4c7-d2147435d408",
        "outputId": "30f3347c-2c84-4ed7-d777-11ab3e2c2dca",
        "colab": {
          "base_uri": "https://localhost:8080/"
        }
      },
      "outputs": [
        {
          "output_type": "execute_result",
          "data": {
            "text/plain": [
              "array([1, 2])"
            ]
          },
          "metadata": {},
          "execution_count": 39
        }
      ],
      "source": [
        "data[0:2]"
      ]
    },
    {
      "cell_type": "code",
      "execution_count": 40,
      "id": "ec3a45b0-b355-4e31-9660-65d8afda4123",
      "metadata": {
        "id": "ec3a45b0-b355-4e31-9660-65d8afda4123",
        "outputId": "dcab3986-6fad-48bf-a12e-5a5af7cbca21",
        "colab": {
          "base_uri": "https://localhost:8080/"
        }
      },
      "outputs": [
        {
          "output_type": "execute_result",
          "data": {
            "text/plain": [
              "array([2, 3])"
            ]
          },
          "metadata": {},
          "execution_count": 40
        }
      ],
      "source": [
        "data[1:]"
      ]
    },
    {
      "cell_type": "code",
      "execution_count": 41,
      "id": "55f90bd6-8eed-45ab-9dad-4d515c95555e",
      "metadata": {
        "id": "55f90bd6-8eed-45ab-9dad-4d515c95555e",
        "outputId": "19aa953f-ac6d-4dc0-a6f7-4a79c9a50f48",
        "colab": {
          "base_uri": "https://localhost:8080/"
        }
      },
      "outputs": [
        {
          "output_type": "execute_result",
          "data": {
            "text/plain": [
              "array([2, 3])"
            ]
          },
          "metadata": {},
          "execution_count": 41
        }
      ],
      "source": [
        "data[-2:]"
      ]
    },
    {
      "cell_type": "code",
      "execution_count": 42,
      "id": "021cb4c8-8580-4b67-bf7a-d76097a627d5",
      "metadata": {
        "id": "021cb4c8-8580-4b67-bf7a-d76097a627d5",
        "outputId": "9fc2390d-502c-41ab-ed7d-4dec4d30d7e3",
        "colab": {
          "base_uri": "https://localhost:8080/"
        }
      },
      "outputs": [
        {
          "output_type": "stream",
          "name": "stdout",
          "text": [
            "[1 2 3 4]\n"
          ]
        }
      ],
      "source": [
        "a = np.array([[1 , 2, 3, 4], [5, 6, 7, 8], [9, 10, 11, 12]])\n",
        "print(a[a < 5])"
      ]
    },
    {
      "cell_type": "code",
      "execution_count": 43,
      "id": "d5aad8a3-ab6f-4b4a-85f9-9f3f9c7ea80c",
      "metadata": {
        "id": "d5aad8a3-ab6f-4b4a-85f9-9f3f9c7ea80c",
        "outputId": "fa3cdbad-149d-4cb1-aa63-b3560af66d23",
        "colab": {
          "base_uri": "https://localhost:8080/"
        }
      },
      "outputs": [
        {
          "output_type": "stream",
          "name": "stdout",
          "text": [
            "[ 5  6  7  8  9 10 11 12]\n"
          ]
        }
      ],
      "source": [
        "five_up = (a >= 5)\n",
        "print(a[five_up])"
      ]
    },
    {
      "cell_type": "code",
      "execution_count": 44,
      "id": "2063a7fb-d6e5-429e-ae3a-0c821191e4d3",
      "metadata": {
        "id": "2063a7fb-d6e5-429e-ae3a-0c821191e4d3",
        "outputId": "c4d28737-807a-43c7-c22f-5d88b7c45ef1",
        "colab": {
          "base_uri": "https://localhost:8080/"
        }
      },
      "outputs": [
        {
          "output_type": "stream",
          "name": "stdout",
          "text": [
            "[ 2  4  6  8 10 12]\n"
          ]
        }
      ],
      "source": [
        "divisible_by_2 = a[a%2==0]\n",
        "print(divisible_by_2)"
      ]
    },
    {
      "cell_type": "code",
      "execution_count": 45,
      "id": "41f13c31-fc3a-427f-bcdd-c0043ffc8d1e",
      "metadata": {
        "id": "41f13c31-fc3a-427f-bcdd-c0043ffc8d1e",
        "outputId": "405326f4-aa01-469c-e2fd-cbac125b9f62",
        "colab": {
          "base_uri": "https://localhost:8080/"
        }
      },
      "outputs": [
        {
          "output_type": "stream",
          "name": "stdout",
          "text": [
            "[ 3  4  5  6  7  8  9 10]\n"
          ]
        }
      ],
      "source": [
        "c = a[(a > 2) & (a < 11)]\n",
        "print(c)"
      ]
    },
    {
      "cell_type": "code",
      "execution_count": 46,
      "id": "6a5886ba-8dca-4257-a4b9-bbe9d8c9f8a7",
      "metadata": {
        "id": "6a5886ba-8dca-4257-a4b9-bbe9d8c9f8a7",
        "outputId": "99c0f2ff-af79-49b4-a051-9096eb5be271",
        "colab": {
          "base_uri": "https://localhost:8080/"
        }
      },
      "outputs": [
        {
          "output_type": "stream",
          "name": "stdout",
          "text": [
            "[[False False False False]\n",
            " [ True  True  True  True]\n",
            " [ True  True  True  True]]\n"
          ]
        }
      ],
      "source": [
        "five_up = (a > 5) | (a == 5)\n",
        "print(five_up)"
      ]
    },
    {
      "cell_type": "code",
      "execution_count": 47,
      "id": "56b0bfad-a23d-464f-a610-3e152e37f3a1",
      "metadata": {
        "id": "56b0bfad-a23d-464f-a610-3e152e37f3a1"
      },
      "outputs": [],
      "source": [
        "a = np.array([[1, 2, 3, 4], [5, 6, 7, 8], [9, 10, 11, 12]])"
      ]
    },
    {
      "cell_type": "code",
      "execution_count": 48,
      "id": "a1a41b7d-2d2d-4d7b-be8e-5eb2841e2695",
      "metadata": {
        "id": "a1a41b7d-2d2d-4d7b-be8e-5eb2841e2695",
        "outputId": "3ccf8785-f4ac-4432-f219-9a7ae54e6f54",
        "colab": {
          "base_uri": "https://localhost:8080/"
        }
      },
      "outputs": [
        {
          "output_type": "stream",
          "name": "stdout",
          "text": [
            "(array([0, 0, 0, 0]), array([0, 1, 2, 3]))\n"
          ]
        }
      ],
      "source": [
        "b = np.nonzero(a < 5)\n",
        "print(b)"
      ]
    },
    {
      "cell_type": "code",
      "execution_count": 49,
      "id": "aa997244-b470-411a-8a9c-9ecfb8c3be0b",
      "metadata": {
        "id": "aa997244-b470-411a-8a9c-9ecfb8c3be0b",
        "outputId": "32680e94-6b68-4cb0-cf49-b41e658855ee",
        "colab": {
          "base_uri": "https://localhost:8080/"
        }
      },
      "outputs": [
        {
          "output_type": "stream",
          "name": "stdout",
          "text": [
            "(0, 0)\n",
            "(0, 1)\n",
            "(0, 2)\n",
            "(0, 3)\n"
          ]
        }
      ],
      "source": [
        "list_of_coordinates= list(zip(b[0], b[1]))\n",
        "\n",
        "for coord in list_of_coordinates:\n",
        "    print(coord)"
      ]
    },
    {
      "cell_type": "code",
      "execution_count": 50,
      "id": "504119d3-f6eb-4078-a9f1-e08e2c43be07",
      "metadata": {
        "id": "504119d3-f6eb-4078-a9f1-e08e2c43be07",
        "outputId": "775b614c-a191-4685-8a55-de686dd3e309",
        "colab": {
          "base_uri": "https://localhost:8080/"
        }
      },
      "outputs": [
        {
          "output_type": "stream",
          "name": "stdout",
          "text": [
            "[1 2 3 4]\n"
          ]
        }
      ],
      "source": [
        "print(a[b])"
      ]
    },
    {
      "cell_type": "code",
      "execution_count": 51,
      "id": "15379bbf-15b5-4993-89fb-b444704995ff",
      "metadata": {
        "id": "15379bbf-15b5-4993-89fb-b444704995ff",
        "outputId": "52238b87-d127-4904-c6d2-26de7543610b",
        "colab": {
          "base_uri": "https://localhost:8080/"
        }
      },
      "outputs": [
        {
          "output_type": "stream",
          "name": "stdout",
          "text": [
            "(array([], dtype=int64), array([], dtype=int64))\n"
          ]
        }
      ],
      "source": [
        "not_there = np.nonzero(a == 42)\n",
        "print(not_there)"
      ]
    },
    {
      "cell_type": "code",
      "execution_count": 52,
      "id": "26135b2d-dbfa-4bc4-98a3-2e9c7c87efe6",
      "metadata": {
        "id": "26135b2d-dbfa-4bc4-98a3-2e9c7c87efe6"
      },
      "outputs": [],
      "source": [
        "# How to create an array from existing data\n",
        "a = np.array([1,  2,  3,  4,  5,  6,  7,  8,  9, 10])"
      ]
    },
    {
      "cell_type": "code",
      "execution_count": 53,
      "id": "c641cab8-ea26-4f47-bd37-f6e6b561ebc0",
      "metadata": {
        "id": "c641cab8-ea26-4f47-bd37-f6e6b561ebc0",
        "outputId": "29518008-f174-4206-912c-80a5f51ddbb4",
        "colab": {
          "base_uri": "https://localhost:8080/"
        }
      },
      "outputs": [
        {
          "output_type": "execute_result",
          "data": {
            "text/plain": [
              "array([4, 5, 6, 7, 8])"
            ]
          },
          "metadata": {},
          "execution_count": 53
        }
      ],
      "source": [
        "arr1 = a[3:8]\n",
        "arr1"
      ]
    },
    {
      "cell_type": "code",
      "execution_count": 54,
      "id": "7c37e8ab-f761-4d52-a958-020988f1cd8c",
      "metadata": {
        "id": "7c37e8ab-f761-4d52-a958-020988f1cd8c"
      },
      "outputs": [],
      "source": [
        "a1 = np.array([[1, 1],[2, 2]])\n",
        "a2 = np.array([[3, 3],[4, 4]])"
      ]
    },
    {
      "cell_type": "code",
      "execution_count": 55,
      "id": "908d6f71-77f1-4a8f-8095-a034642f7611",
      "metadata": {
        "id": "908d6f71-77f1-4a8f-8095-a034642f7611",
        "outputId": "3dca6db9-0966-4fd4-e468-092fea0023f1",
        "colab": {
          "base_uri": "https://localhost:8080/"
        }
      },
      "outputs": [
        {
          "output_type": "execute_result",
          "data": {
            "text/plain": [
              "array([[1, 1],\n",
              "       [2, 2],\n",
              "       [3, 3],\n",
              "       [4, 4]])"
            ]
          },
          "metadata": {},
          "execution_count": 55
        }
      ],
      "source": [
        "np.vstack((a1, a2))"
      ]
    },
    {
      "cell_type": "code",
      "execution_count": 56,
      "id": "d3b453d9-2984-4253-8a04-fd49ed8310e0",
      "metadata": {
        "id": "d3b453d9-2984-4253-8a04-fd49ed8310e0",
        "outputId": "ca035848-efdd-464f-c4ee-ee6a82034f27",
        "colab": {
          "base_uri": "https://localhost:8080/"
        }
      },
      "outputs": [
        {
          "output_type": "execute_result",
          "data": {
            "text/plain": [
              "array([[1, 1, 3, 3],\n",
              "       [2, 2, 4, 4]])"
            ]
          },
          "metadata": {},
          "execution_count": 56
        }
      ],
      "source": [
        "np.hstack((a1, a2))"
      ]
    },
    {
      "cell_type": "code",
      "execution_count": 57,
      "id": "9b47de60-5475-4af6-9695-ff08cb7f1066",
      "metadata": {
        "id": "9b47de60-5475-4af6-9695-ff08cb7f1066",
        "outputId": "5f81dd1a-d7a8-465e-bfc2-fba71d98fc93",
        "colab": {
          "base_uri": "https://localhost:8080/"
        }
      },
      "outputs": [
        {
          "output_type": "execute_result",
          "data": {
            "text/plain": [
              "array([[ 1,  2,  3,  4,  5,  6,  7,  8,  9, 10, 11, 12],\n",
              "       [13, 14, 15, 16, 17, 18, 19, 20, 21, 22, 23, 24]])"
            ]
          },
          "metadata": {},
          "execution_count": 57
        }
      ],
      "source": [
        "x = np.arange(1, 25).reshape(2, 12)\n",
        "x"
      ]
    },
    {
      "cell_type": "code",
      "execution_count": 58,
      "id": "cb955bc1-423a-4f20-89a0-ec759e8c6af1",
      "metadata": {
        "id": "cb955bc1-423a-4f20-89a0-ec759e8c6af1",
        "outputId": "e2ed0921-31f7-4c64-b6d2-d9fbc03a9e15",
        "colab": {
          "base_uri": "https://localhost:8080/"
        }
      },
      "outputs": [
        {
          "output_type": "execute_result",
          "data": {
            "text/plain": [
              "[array([[ 1,  2,  3,  4],\n",
              "        [13, 14, 15, 16]]),\n",
              " array([[ 5,  6,  7,  8],\n",
              "        [17, 18, 19, 20]]),\n",
              " array([[ 9, 10, 11, 12],\n",
              "        [21, 22, 23, 24]])]"
            ]
          },
          "metadata": {},
          "execution_count": 58
        }
      ],
      "source": [
        "np.hsplit(x, 3)"
      ]
    },
    {
      "cell_type": "code",
      "execution_count": 59,
      "id": "44cd02ab-f989-4f1f-8d36-8d0e294d4868",
      "metadata": {
        "id": "44cd02ab-f989-4f1f-8d36-8d0e294d4868",
        "outputId": "221852f2-bb1b-4087-d887-c06052d6f4d2",
        "colab": {
          "base_uri": "https://localhost:8080/"
        }
      },
      "outputs": [
        {
          "output_type": "execute_result",
          "data": {
            "text/plain": [
              "[array([[ 1,  2,  3],\n",
              "        [13, 14, 15]]),\n",
              " array([[ 4],\n",
              "        [16]]),\n",
              " array([[ 5,  6,  7,  8,  9, 10, 11, 12],\n",
              "        [17, 18, 19, 20, 21, 22, 23, 24]])]"
            ]
          },
          "metadata": {},
          "execution_count": 59
        }
      ],
      "source": [
        "np.hsplit(x, (3, 4))"
      ]
    },
    {
      "cell_type": "code",
      "execution_count": 60,
      "id": "6c1137b0-4dec-4e44-ab74-cc190a209e38",
      "metadata": {
        "id": "6c1137b0-4dec-4e44-ab74-cc190a209e38"
      },
      "outputs": [],
      "source": [
        "a = np.array([[1, 2, 3, 4], [5, 6, 7, 8], [9, 10, 11, 12]])"
      ]
    },
    {
      "cell_type": "code",
      "execution_count": 61,
      "id": "105c3987-c4cc-40dc-859d-5537f154a58f",
      "metadata": {
        "id": "105c3987-c4cc-40dc-859d-5537f154a58f",
        "outputId": "6e487046-5241-4a97-81e0-486d4b34d3c7",
        "colab": {
          "base_uri": "https://localhost:8080/"
        }
      },
      "outputs": [
        {
          "output_type": "execute_result",
          "data": {
            "text/plain": [
              "array([1, 2, 3, 4])"
            ]
          },
          "metadata": {},
          "execution_count": 61
        }
      ],
      "source": [
        "b1 = a[0, :]\n",
        "b1"
      ]
    },
    {
      "cell_type": "code",
      "execution_count": 62,
      "id": "5cc2a58e-78e9-4bfe-930c-76af2f0811db",
      "metadata": {
        "id": "5cc2a58e-78e9-4bfe-930c-76af2f0811db",
        "outputId": "6c37f836-baf7-4825-f429-c37b4b9b6f16",
        "colab": {
          "base_uri": "https://localhost:8080/"
        }
      },
      "outputs": [
        {
          "output_type": "execute_result",
          "data": {
            "text/plain": [
              "array([99,  2,  3,  4])"
            ]
          },
          "metadata": {},
          "execution_count": 62
        }
      ],
      "source": [
        "b1[0] = 99\n",
        "b1"
      ]
    },
    {
      "cell_type": "code",
      "execution_count": 63,
      "id": "f70901cb-1f57-456a-a331-1d040cd82811",
      "metadata": {
        "id": "f70901cb-1f57-456a-a331-1d040cd82811",
        "outputId": "e975569a-9543-4fbd-da0a-3cc8ba4ece57",
        "colab": {
          "base_uri": "https://localhost:8080/"
        }
      },
      "outputs": [
        {
          "output_type": "execute_result",
          "data": {
            "text/plain": [
              "array([[99,  2,  3,  4],\n",
              "       [ 5,  6,  7,  8],\n",
              "       [ 9, 10, 11, 12]])"
            ]
          },
          "metadata": {},
          "execution_count": 63
        }
      ],
      "source": [
        "a"
      ]
    },
    {
      "cell_type": "code",
      "execution_count": 64,
      "id": "11efd1ee-9693-4e8d-a28a-67f503cb921e",
      "metadata": {
        "id": "11efd1ee-9693-4e8d-a28a-67f503cb921e",
        "outputId": "5d3fa5af-1840-4ea0-a785-9ac68c80b366",
        "colab": {
          "base_uri": "https://localhost:8080/"
        }
      },
      "outputs": [
        {
          "output_type": "execute_result",
          "data": {
            "text/plain": [
              "array([[99,  2,  3,  4],\n",
              "       [ 5,  6,  7,  8],\n",
              "       [ 9, 10, 11, 12]])"
            ]
          },
          "metadata": {},
          "execution_count": 64
        }
      ],
      "source": [
        "b2 = a.copy()\n",
        "b2"
      ]
    },
    {
      "cell_type": "code",
      "execution_count": 65,
      "id": "ea3430e6-6213-4522-82b4-c6aa1bc75190",
      "metadata": {
        "id": "ea3430e6-6213-4522-82b4-c6aa1bc75190",
        "outputId": "1e22de7e-c452-4cfc-c1aa-a2852e2eeda9",
        "colab": {
          "base_uri": "https://localhost:8080/"
        }
      },
      "outputs": [
        {
          "output_type": "execute_result",
          "data": {
            "text/plain": [
              "array([2, 3])"
            ]
          },
          "metadata": {},
          "execution_count": 65
        }
      ],
      "source": [
        "# Basic array operations\n",
        "data = np.array([1, 2])\n",
        "ones = np.ones(2, dtype=int)\n",
        "data + ones"
      ]
    },
    {
      "cell_type": "code",
      "execution_count": 66,
      "id": "8f3b07f5-e79b-46b4-991b-03122dc0e573",
      "metadata": {
        "id": "8f3b07f5-e79b-46b4-991b-03122dc0e573",
        "outputId": "77116357-b10d-445e-fe25-593312a5e429",
        "colab": {
          "base_uri": "https://localhost:8080/"
        }
      },
      "outputs": [
        {
          "output_type": "execute_result",
          "data": {
            "text/plain": [
              "array([0, 1])"
            ]
          },
          "metadata": {},
          "execution_count": 66
        }
      ],
      "source": [
        "data - ones"
      ]
    },
    {
      "cell_type": "code",
      "execution_count": 67,
      "id": "fb2077d2-4fd9-421a-a30d-011d71cd67ef",
      "metadata": {
        "id": "fb2077d2-4fd9-421a-a30d-011d71cd67ef",
        "outputId": "dc680738-601f-4a6a-c33b-bbec7335cc12",
        "colab": {
          "base_uri": "https://localhost:8080/"
        }
      },
      "outputs": [
        {
          "output_type": "execute_result",
          "data": {
            "text/plain": [
              "array([1, 4])"
            ]
          },
          "metadata": {},
          "execution_count": 67
        }
      ],
      "source": [
        "data * data"
      ]
    },
    {
      "cell_type": "code",
      "execution_count": 68,
      "id": "3d97fc03-72c8-4b4d-b232-e4984b1111a8",
      "metadata": {
        "id": "3d97fc03-72c8-4b4d-b232-e4984b1111a8",
        "outputId": "2e07d092-7f70-499d-b895-0bbf163a2d64",
        "colab": {
          "base_uri": "https://localhost:8080/"
        }
      },
      "outputs": [
        {
          "output_type": "execute_result",
          "data": {
            "text/plain": [
              "array([1., 1.])"
            ]
          },
          "metadata": {},
          "execution_count": 68
        }
      ],
      "source": [
        "data / data"
      ]
    },
    {
      "cell_type": "code",
      "execution_count": 69,
      "id": "5f9f05ed-97c3-44ee-a914-b37f49d7d60e",
      "metadata": {
        "id": "5f9f05ed-97c3-44ee-a914-b37f49d7d60e",
        "outputId": "cd55b8e4-7ef3-41c8-c067-023b66894f9d",
        "colab": {
          "base_uri": "https://localhost:8080/"
        }
      },
      "outputs": [
        {
          "output_type": "execute_result",
          "data": {
            "text/plain": [
              "10"
            ]
          },
          "metadata": {},
          "execution_count": 69
        }
      ],
      "source": [
        "a = np.array([1, 2, 3, 4])\n",
        "a.sum()"
      ]
    },
    {
      "cell_type": "code",
      "execution_count": 70,
      "id": "18b6f480-a74d-4283-a0ec-bbd17079a259",
      "metadata": {
        "id": "18b6f480-a74d-4283-a0ec-bbd17079a259"
      },
      "outputs": [],
      "source": [
        "b = np.array([[1, 1], [2, 2]])"
      ]
    },
    {
      "cell_type": "code",
      "execution_count": 71,
      "id": "2a4fcf8f-7550-4554-aa6a-4f3d8a4355eb",
      "metadata": {
        "id": "2a4fcf8f-7550-4554-aa6a-4f3d8a4355eb",
        "outputId": "9b771898-bc2b-49f9-97b4-1e76216fdef4",
        "colab": {
          "base_uri": "https://localhost:8080/"
        }
      },
      "outputs": [
        {
          "output_type": "execute_result",
          "data": {
            "text/plain": [
              "array([3, 3])"
            ]
          },
          "metadata": {},
          "execution_count": 71
        }
      ],
      "source": [
        "b.sum(axis=0)"
      ]
    },
    {
      "cell_type": "code",
      "execution_count": 72,
      "id": "b37d493d-0cc6-433a-81b6-a1cf1bb5c7d5",
      "metadata": {
        "id": "b37d493d-0cc6-433a-81b6-a1cf1bb5c7d5",
        "outputId": "dd2b5bfa-1d80-4b53-8649-d32b8d59e548",
        "colab": {
          "base_uri": "https://localhost:8080/"
        }
      },
      "outputs": [
        {
          "output_type": "execute_result",
          "data": {
            "text/plain": [
              "array([2, 4])"
            ]
          },
          "metadata": {},
          "execution_count": 72
        }
      ],
      "source": [
        "b.sum(axis=1)"
      ]
    },
    {
      "cell_type": "code",
      "execution_count": 73,
      "id": "05cfe981-db12-4ec0-b76d-bec50d5211d3",
      "metadata": {
        "id": "05cfe981-db12-4ec0-b76d-bec50d5211d3",
        "outputId": "1b3fcbd1-bb85-4c41-814e-db01a24bbb12",
        "colab": {
          "base_uri": "https://localhost:8080/"
        }
      },
      "outputs": [
        {
          "output_type": "execute_result",
          "data": {
            "text/plain": [
              "array([1.6, 3.2])"
            ]
          },
          "metadata": {},
          "execution_count": 73
        }
      ],
      "source": [
        "# Broadcasting\n",
        "data = np.array([1.0, 2.0])\n",
        "data * 1.6"
      ]
    },
    {
      "cell_type": "code",
      "execution_count": 74,
      "id": "e0d7d49b-c500-487d-8f79-ca3d466063eb",
      "metadata": {
        "id": "e0d7d49b-c500-487d-8f79-ca3d466063eb",
        "outputId": "0f981058-f121-4821-d467-485786a08b00",
        "colab": {
          "base_uri": "https://localhost:8080/"
        }
      },
      "outputs": [
        {
          "output_type": "execute_result",
          "data": {
            "text/plain": [
              "2.0"
            ]
          },
          "metadata": {},
          "execution_count": 74
        }
      ],
      "source": [
        "# More useful array operations\n",
        "data.max()"
      ]
    },
    {
      "cell_type": "code",
      "execution_count": 75,
      "id": "d4bb8a97-426d-4a72-b9cb-a0513636c98e",
      "metadata": {
        "id": "d4bb8a97-426d-4a72-b9cb-a0513636c98e",
        "outputId": "038e41b9-dd62-46ff-9ea8-38ff9c0ef82b",
        "colab": {
          "base_uri": "https://localhost:8080/"
        }
      },
      "outputs": [
        {
          "output_type": "execute_result",
          "data": {
            "text/plain": [
              "1.0"
            ]
          },
          "metadata": {},
          "execution_count": 75
        }
      ],
      "source": [
        "data.min()"
      ]
    },
    {
      "cell_type": "code",
      "execution_count": 76,
      "id": "f48119af-8a5c-41e4-98ef-11270cd56c40",
      "metadata": {
        "id": "f48119af-8a5c-41e4-98ef-11270cd56c40",
        "outputId": "fd72ba2f-5e60-44e5-b4d5-d2cc119a6d99",
        "colab": {
          "base_uri": "https://localhost:8080/"
        }
      },
      "outputs": [
        {
          "output_type": "execute_result",
          "data": {
            "text/plain": [
              "3.0"
            ]
          },
          "metadata": {},
          "execution_count": 76
        }
      ],
      "source": [
        "data.sum()"
      ]
    },
    {
      "cell_type": "code",
      "execution_count": 77,
      "id": "b1ef8673-7ff2-406e-af16-88a462c62509",
      "metadata": {
        "id": "b1ef8673-7ff2-406e-af16-88a462c62509"
      },
      "outputs": [],
      "source": [
        "a = np.array([[0.45053314, 0.17296777, 0.34376245, 0.5510652],\n",
        "              [0.54627315, 0.05093587, 0.40067661, 0.55645993],\n",
        "              [0.12697628, 0.82485143, 0.26590556, 0.56917101]])"
      ]
    },
    {
      "cell_type": "code",
      "execution_count": 78,
      "id": "bbeb46a6-7074-45cc-893b-1fb4fc1f4561",
      "metadata": {
        "id": "bbeb46a6-7074-45cc-893b-1fb4fc1f4561",
        "outputId": "237f48ae-4d1c-4788-846b-53a1ec621396",
        "colab": {
          "base_uri": "https://localhost:8080/"
        }
      },
      "outputs": [
        {
          "output_type": "execute_result",
          "data": {
            "text/plain": [
              "4.8595784"
            ]
          },
          "metadata": {},
          "execution_count": 78
        }
      ],
      "source": [
        "a.sum()"
      ]
    },
    {
      "cell_type": "code",
      "execution_count": 79,
      "id": "091e9fae-e0f7-49af-b12e-e0b86d542b35",
      "metadata": {
        "id": "091e9fae-e0f7-49af-b12e-e0b86d542b35",
        "outputId": "c9a6e688-5f4d-408e-f2ac-f501b9c9e857",
        "colab": {
          "base_uri": "https://localhost:8080/"
        }
      },
      "outputs": [
        {
          "output_type": "execute_result",
          "data": {
            "text/plain": [
              "0.05093587"
            ]
          },
          "metadata": {},
          "execution_count": 79
        }
      ],
      "source": [
        "a.min()"
      ]
    },
    {
      "cell_type": "code",
      "execution_count": 80,
      "id": "08befcc7-d3e0-4e07-ad01-8e04e7216952",
      "metadata": {
        "id": "08befcc7-d3e0-4e07-ad01-8e04e7216952",
        "outputId": "660a38ee-8207-4b98-f87e-96474ceb781d",
        "colab": {
          "base_uri": "https://localhost:8080/"
        }
      },
      "outputs": [
        {
          "output_type": "execute_result",
          "data": {
            "text/plain": [
              "array([0.12697628, 0.05093587, 0.26590556, 0.5510652 ])"
            ]
          },
          "metadata": {},
          "execution_count": 80
        }
      ],
      "source": [
        "a.min(axis=0)"
      ]
    },
    {
      "cell_type": "code",
      "execution_count": 81,
      "id": "b91a46e1-3cfb-4c0f-871c-54773e62b13f",
      "metadata": {
        "id": "b91a46e1-3cfb-4c0f-871c-54773e62b13f",
        "outputId": "c4fc9dea-5f32-4c94-ab41-5760c30232f1",
        "colab": {
          "base_uri": "https://localhost:8080/"
        }
      },
      "outputs": [
        {
          "output_type": "execute_result",
          "data": {
            "text/plain": [
              "array([[1, 2],\n",
              "       [3, 4],\n",
              "       [5, 6]])"
            ]
          },
          "metadata": {},
          "execution_count": 81
        }
      ],
      "source": [
        "# Creating matrices\n",
        "data = np.array([[1, 2], [3, 4], [5, 6]])\n",
        "data"
      ]
    },
    {
      "cell_type": "code",
      "execution_count": 82,
      "id": "b8b95fc5-8c1a-4a9b-9003-9119353dffaf",
      "metadata": {
        "id": "b8b95fc5-8c1a-4a9b-9003-9119353dffaf",
        "outputId": "267a2185-f929-4d58-c88b-167c2ce924c3",
        "colab": {
          "base_uri": "https://localhost:8080/"
        }
      },
      "outputs": [
        {
          "output_type": "execute_result",
          "data": {
            "text/plain": [
              "2"
            ]
          },
          "metadata": {},
          "execution_count": 82
        }
      ],
      "source": [
        "data[0, 1]"
      ]
    },
    {
      "cell_type": "code",
      "execution_count": 83,
      "id": "96a82915-a0b6-4d58-85fb-f60c8e88b0b1",
      "metadata": {
        "id": "96a82915-a0b6-4d58-85fb-f60c8e88b0b1",
        "outputId": "1f12a262-1779-408c-982a-74cd438fc0e4",
        "colab": {
          "base_uri": "https://localhost:8080/"
        }
      },
      "outputs": [
        {
          "output_type": "execute_result",
          "data": {
            "text/plain": [
              "array([[3, 4],\n",
              "       [5, 6]])"
            ]
          },
          "metadata": {},
          "execution_count": 83
        }
      ],
      "source": [
        "data[1:3]"
      ]
    },
    {
      "cell_type": "code",
      "execution_count": 84,
      "id": "0c86d9cd-108e-4127-901d-e49417a5e3a6",
      "metadata": {
        "id": "0c86d9cd-108e-4127-901d-e49417a5e3a6",
        "outputId": "8795bbbd-ee73-4204-a985-8c9147161872",
        "colab": {
          "base_uri": "https://localhost:8080/"
        }
      },
      "outputs": [
        {
          "output_type": "execute_result",
          "data": {
            "text/plain": [
              "array([1, 3])"
            ]
          },
          "metadata": {},
          "execution_count": 84
        }
      ],
      "source": [
        "data[0:2, 0]"
      ]
    },
    {
      "cell_type": "code",
      "execution_count": 85,
      "id": "58d211f0-f821-4912-ab6f-f726667cffdf",
      "metadata": {
        "id": "58d211f0-f821-4912-ab6f-f726667cffdf",
        "outputId": "ff5c7fd1-a4b6-49c6-c22a-36871d2cad32",
        "colab": {
          "base_uri": "https://localhost:8080/"
        }
      },
      "outputs": [
        {
          "output_type": "execute_result",
          "data": {
            "text/plain": [
              "6"
            ]
          },
          "metadata": {},
          "execution_count": 85
        }
      ],
      "source": [
        "data.max()"
      ]
    },
    {
      "cell_type": "code",
      "execution_count": 86,
      "id": "e24c7cb4-df31-4dab-9b5f-fa8761f80fcb",
      "metadata": {
        "id": "e24c7cb4-df31-4dab-9b5f-fa8761f80fcb",
        "outputId": "8c050cba-8ef6-4acc-895b-1fe7ae5dd42f",
        "colab": {
          "base_uri": "https://localhost:8080/"
        }
      },
      "outputs": [
        {
          "output_type": "execute_result",
          "data": {
            "text/plain": [
              "1"
            ]
          },
          "metadata": {},
          "execution_count": 86
        }
      ],
      "source": [
        "data.min()"
      ]
    },
    {
      "cell_type": "code",
      "execution_count": 87,
      "id": "19920d73-9dbf-42e9-8e5a-e0de5c827ed8",
      "metadata": {
        "id": "19920d73-9dbf-42e9-8e5a-e0de5c827ed8",
        "outputId": "049ae763-492f-4261-ed25-9a370b5fa06c",
        "colab": {
          "base_uri": "https://localhost:8080/"
        }
      },
      "outputs": [
        {
          "output_type": "execute_result",
          "data": {
            "text/plain": [
              "21"
            ]
          },
          "metadata": {},
          "execution_count": 87
        }
      ],
      "source": [
        "data.sum()"
      ]
    },
    {
      "cell_type": "code",
      "execution_count": 88,
      "id": "234c3756-ba3c-4acc-b233-ffaeabcfa2fb",
      "metadata": {
        "id": "234c3756-ba3c-4acc-b233-ffaeabcfa2fb",
        "outputId": "481d591a-3441-49a4-9882-a9c1b4b263ee",
        "colab": {
          "base_uri": "https://localhost:8080/"
        }
      },
      "outputs": [
        {
          "output_type": "execute_result",
          "data": {
            "text/plain": [
              "array([[1, 2],\n",
              "       [5, 3],\n",
              "       [4, 6]])"
            ]
          },
          "metadata": {},
          "execution_count": 88
        }
      ],
      "source": [
        "data = np.array([[1, 2], [5, 3], [4, 6]])\n",
        "data"
      ]
    },
    {
      "cell_type": "code",
      "execution_count": 89,
      "id": "4241533b-0a2e-4d83-b000-9a468a4a189d",
      "metadata": {
        "id": "4241533b-0a2e-4d83-b000-9a468a4a189d",
        "outputId": "4415f046-ca42-4702-c86d-2e6d62cb9aa9",
        "colab": {
          "base_uri": "https://localhost:8080/"
        }
      },
      "outputs": [
        {
          "output_type": "execute_result",
          "data": {
            "text/plain": [
              "array([5, 6])"
            ]
          },
          "metadata": {},
          "execution_count": 89
        }
      ],
      "source": [
        "data.max(axis=0)"
      ]
    },
    {
      "cell_type": "code",
      "execution_count": 90,
      "id": "88938e95-1943-46e4-918b-4e9ca37169a9",
      "metadata": {
        "id": "88938e95-1943-46e4-918b-4e9ca37169a9",
        "outputId": "5b4a5523-12bb-49b3-832d-e1782f4ee8c8",
        "colab": {
          "base_uri": "https://localhost:8080/"
        }
      },
      "outputs": [
        {
          "output_type": "execute_result",
          "data": {
            "text/plain": [
              "array([2, 5, 6])"
            ]
          },
          "metadata": {},
          "execution_count": 90
        }
      ],
      "source": [
        "data.max(axis=1)"
      ]
    },
    {
      "cell_type": "code",
      "execution_count": 91,
      "id": "39f04242-1330-4718-afeb-5a20011a6a8f",
      "metadata": {
        "id": "39f04242-1330-4718-afeb-5a20011a6a8f",
        "outputId": "2f222fa1-84bb-45c8-f78b-74a4dc995e21",
        "colab": {
          "base_uri": "https://localhost:8080/"
        }
      },
      "outputs": [
        {
          "output_type": "execute_result",
          "data": {
            "text/plain": [
              "array([[2, 3],\n",
              "       [4, 5]])"
            ]
          },
          "metadata": {},
          "execution_count": 91
        }
      ],
      "source": [
        "data = np.array([[1, 2], [3, 4]])\n",
        "ones = np.array([[1, 1], [1, 1]])\n",
        "data + ones"
      ]
    },
    {
      "cell_type": "code",
      "execution_count": 92,
      "id": "aa89d145-74bd-4946-8719-d5cc2224c311",
      "metadata": {
        "id": "aa89d145-74bd-4946-8719-d5cc2224c311",
        "outputId": "f60cc1ef-8c85-40ea-93dc-2ce2d562e334",
        "colab": {
          "base_uri": "https://localhost:8080/"
        }
      },
      "outputs": [
        {
          "output_type": "execute_result",
          "data": {
            "text/plain": [
              "array([[2, 3],\n",
              "       [4, 5],\n",
              "       [6, 7]])"
            ]
          },
          "metadata": {},
          "execution_count": 92
        }
      ],
      "source": [
        "data = np.array([[1, 2], [3, 4], [5, 6]])\n",
        "ones_row = np.array([[1, 1]])\n",
        "data + ones_row"
      ]
    },
    {
      "cell_type": "code",
      "execution_count": 93,
      "id": "396d9897-20e1-428e-89df-60f2e2a433d2",
      "metadata": {
        "id": "396d9897-20e1-428e-89df-60f2e2a433d2",
        "outputId": "94442a12-eb7c-4e12-d03c-46e506e71b2a",
        "colab": {
          "base_uri": "https://localhost:8080/"
        }
      },
      "outputs": [
        {
          "output_type": "execute_result",
          "data": {
            "text/plain": [
              "array([[[1., 1.],\n",
              "        [1., 1.],\n",
              "        [1., 1.]],\n",
              "\n",
              "       [[1., 1.],\n",
              "        [1., 1.],\n",
              "        [1., 1.]],\n",
              "\n",
              "       [[1., 1.],\n",
              "        [1., 1.],\n",
              "        [1., 1.]],\n",
              "\n",
              "       [[1., 1.],\n",
              "        [1., 1.],\n",
              "        [1., 1.]]])"
            ]
          },
          "metadata": {},
          "execution_count": 93
        }
      ],
      "source": [
        "np.ones((4, 3, 2))"
      ]
    },
    {
      "cell_type": "code",
      "execution_count": 94,
      "id": "5ca118dc-6c47-4c9a-ab09-49b96fc6cd8e",
      "metadata": {
        "id": "5ca118dc-6c47-4c9a-ab09-49b96fc6cd8e",
        "outputId": "02c9ab62-81fc-44cb-d177-7db529ea1cf1",
        "colab": {
          "base_uri": "https://localhost:8080/"
        }
      },
      "outputs": [
        {
          "output_type": "execute_result",
          "data": {
            "text/plain": [
              "array([1., 1., 1.])"
            ]
          },
          "metadata": {},
          "execution_count": 94
        }
      ],
      "source": [
        "np.ones(3)"
      ]
    },
    {
      "cell_type": "code",
      "execution_count": 95,
      "id": "27ae2567-3818-4a59-bdb9-d32315e2446c",
      "metadata": {
        "id": "27ae2567-3818-4a59-bdb9-d32315e2446c",
        "outputId": "d308a21d-c5f4-4f13-db76-88cec11f6f96",
        "colab": {
          "base_uri": "https://localhost:8080/"
        }
      },
      "outputs": [
        {
          "output_type": "execute_result",
          "data": {
            "text/plain": [
              "array([0., 0., 0.])"
            ]
          },
          "metadata": {},
          "execution_count": 95
        }
      ],
      "source": [
        "np.zeros(3)"
      ]
    },
    {
      "cell_type": "code",
      "execution_count": 96,
      "id": "aa5e4b30-11e6-4311-8800-1f025c899744",
      "metadata": {
        "id": "aa5e4b30-11e6-4311-8800-1f025c899744",
        "outputId": "84b38a0c-38a0-433f-c94f-f0803c61cbec",
        "colab": {
          "base_uri": "https://localhost:8080/"
        }
      },
      "outputs": [
        {
          "output_type": "execute_result",
          "data": {
            "text/plain": [
              "array([0.62135745, 0.7256624 , 0.28044366])"
            ]
          },
          "metadata": {},
          "execution_count": 96
        }
      ],
      "source": [
        "rng = np.random.default_rng()  # the simplest way to generate random numbers\n",
        "rng.random(3)"
      ]
    },
    {
      "cell_type": "code",
      "execution_count": 97,
      "id": "441579f9-bb4e-4d27-b8e0-a57ece0329e5",
      "metadata": {
        "id": "441579f9-bb4e-4d27-b8e0-a57ece0329e5",
        "outputId": "ae3e085f-b233-45a4-dc7e-f5aa6a8bbce4",
        "colab": {
          "base_uri": "https://localhost:8080/"
        }
      },
      "outputs": [
        {
          "output_type": "execute_result",
          "data": {
            "text/plain": [
              "array([[1., 1.],\n",
              "       [1., 1.],\n",
              "       [1., 1.]])"
            ]
          },
          "metadata": {},
          "execution_count": 97
        }
      ],
      "source": [
        "np.ones((3, 2))"
      ]
    },
    {
      "cell_type": "code",
      "execution_count": 98,
      "id": "3ef52316-2596-4acd-9130-aa38cec25850",
      "metadata": {
        "id": "3ef52316-2596-4acd-9130-aa38cec25850",
        "outputId": "a1e5f7ea-984b-44bf-dc7c-f6411544cbdd",
        "colab": {
          "base_uri": "https://localhost:8080/"
        }
      },
      "outputs": [
        {
          "output_type": "execute_result",
          "data": {
            "text/plain": [
              "array([[0., 0.],\n",
              "       [0., 0.],\n",
              "       [0., 0.]])"
            ]
          },
          "metadata": {},
          "execution_count": 98
        }
      ],
      "source": [
        "np.zeros((3, 2))"
      ]
    },
    {
      "cell_type": "code",
      "execution_count": 99,
      "id": "9e845b93-f6bf-4f1e-be1d-7d5861dd8926",
      "metadata": {
        "id": "9e845b93-f6bf-4f1e-be1d-7d5861dd8926",
        "outputId": "16cb24e3-6cb3-44a4-9ca1-d8ab20cddff7",
        "colab": {
          "base_uri": "https://localhost:8080/"
        }
      },
      "outputs": [
        {
          "output_type": "execute_result",
          "data": {
            "text/plain": [
              "array([[0.53368117, 0.79076159],\n",
              "       [0.14281101, 0.09918994],\n",
              "       [0.75954625, 0.85422076]])"
            ]
          },
          "metadata": {},
          "execution_count": 99
        }
      ],
      "source": [
        "rng.random((3, 2))"
      ]
    },
    {
      "cell_type": "code",
      "execution_count": 100,
      "id": "5bc8d85d-8802-4411-b095-2753fba1e79e",
      "metadata": {
        "id": "5bc8d85d-8802-4411-b095-2753fba1e79e",
        "outputId": "bbe7d914-6ca5-4ff2-d467-71b6d5fb71a8",
        "colab": {
          "base_uri": "https://localhost:8080/"
        }
      },
      "outputs": [
        {
          "output_type": "execute_result",
          "data": {
            "text/plain": [
              "array([[0, 1, 2, 1],\n",
              "       [1, 1, 4, 2]])"
            ]
          },
          "metadata": {},
          "execution_count": 100
        }
      ],
      "source": [
        "# Generating random numbers\n",
        "rng.integers(5, size=(2, 4))"
      ]
    },
    {
      "cell_type": "code",
      "execution_count": 101,
      "id": "a220a53c-b32b-4103-bf34-9aa767b20fb4",
      "metadata": {
        "id": "a220a53c-b32b-4103-bf34-9aa767b20fb4"
      },
      "outputs": [],
      "source": [
        "# How to get unique items and counts\n",
        "a = np.array([11, 11, 12, 13, 14, 15, 16, 17, 12, 13, 11, 14, 18, 19, 20])"
      ]
    },
    {
      "cell_type": "code",
      "execution_count": 102,
      "id": "65d97dcc-c687-431b-85b3-64938582af29",
      "metadata": {
        "id": "65d97dcc-c687-431b-85b3-64938582af29",
        "outputId": "debb4352-d2f5-4515-df2e-26a814550444",
        "colab": {
          "base_uri": "https://localhost:8080/"
        }
      },
      "outputs": [
        {
          "output_type": "stream",
          "name": "stdout",
          "text": [
            "[11 12 13 14 15 16 17 18 19 20]\n"
          ]
        }
      ],
      "source": [
        "unique_values = np.unique(a)\n",
        "print(unique_values)"
      ]
    },
    {
      "cell_type": "code",
      "execution_count": 103,
      "id": "689612f7-acf1-4d2f-b00c-3f73fee9bc07",
      "metadata": {
        "id": "689612f7-acf1-4d2f-b00c-3f73fee9bc07",
        "outputId": "6aa65f70-48eb-45c9-f573-4f32c087d896",
        "colab": {
          "base_uri": "https://localhost:8080/"
        }
      },
      "outputs": [
        {
          "output_type": "stream",
          "name": "stdout",
          "text": [
            "[ 0  2  3  4  5  6  7 12 13 14]\n"
          ]
        }
      ],
      "source": [
        "unique_values, indices_list = np.unique(a, return_index=True)\n",
        "print(indices_list)"
      ]
    },
    {
      "cell_type": "code",
      "execution_count": 104,
      "id": "066208ef-174a-4a24-b2ee-d35ae34e0336",
      "metadata": {
        "id": "066208ef-174a-4a24-b2ee-d35ae34e0336",
        "outputId": "4ecd6ed3-32ea-429d-f138-7bdf2f3e8f1b",
        "colab": {
          "base_uri": "https://localhost:8080/"
        }
      },
      "outputs": [
        {
          "output_type": "stream",
          "name": "stdout",
          "text": [
            "[3 2 2 2 1 1 1 1 1 1]\n"
          ]
        }
      ],
      "source": [
        "unique_values, occurrence_count = np.unique(a, return_counts=True)\n",
        "print(occurrence_count)"
      ]
    },
    {
      "cell_type": "code",
      "execution_count": 105,
      "id": "cf11b844-1fdc-4dc9-9a15-39b188012886",
      "metadata": {
        "id": "cf11b844-1fdc-4dc9-9a15-39b188012886"
      },
      "outputs": [],
      "source": [
        "a_2d = np.array([[1, 2, 3, 4], [5, 6, 7, 8], [9, 10, 11, 12], [1, 2, 3, 4]])"
      ]
    },
    {
      "cell_type": "code",
      "execution_count": 106,
      "id": "fbf16fb7-a8ff-4f27-81ed-bd67ebaa6f6b",
      "metadata": {
        "id": "fbf16fb7-a8ff-4f27-81ed-bd67ebaa6f6b",
        "outputId": "c0d0b619-29bd-4a95-9c52-9f5f383b236e",
        "colab": {
          "base_uri": "https://localhost:8080/"
        }
      },
      "outputs": [
        {
          "output_type": "stream",
          "name": "stdout",
          "text": [
            "[ 1  2  3  4  5  6  7  8  9 10 11 12]\n"
          ]
        }
      ],
      "source": [
        "unique_values = np.unique(a_2d)\n",
        "print(unique_values)"
      ]
    },
    {
      "cell_type": "code",
      "execution_count": 107,
      "id": "616b9c92-4542-439a-b469-270337f8250e",
      "metadata": {
        "id": "616b9c92-4542-439a-b469-270337f8250e",
        "outputId": "d44c04ea-4841-4e62-9b64-fc6e5daf46ff",
        "colab": {
          "base_uri": "https://localhost:8080/"
        }
      },
      "outputs": [
        {
          "output_type": "stream",
          "name": "stdout",
          "text": [
            "[[ 1  2  3  4]\n",
            " [ 5  6  7  8]\n",
            " [ 9 10 11 12]]\n"
          ]
        }
      ],
      "source": [
        "unique_rows = np.unique(a_2d, axis=0)\n",
        "print(unique_rows)"
      ]
    },
    {
      "cell_type": "code",
      "execution_count": 108,
      "id": "3cb8b051-1a33-4a47-b1a9-1d5d42a0b244",
      "metadata": {
        "id": "3cb8b051-1a33-4a47-b1a9-1d5d42a0b244",
        "outputId": "365c641e-d721-43ea-ac00-e64369c37154",
        "colab": {
          "base_uri": "https://localhost:8080/"
        }
      },
      "outputs": [
        {
          "output_type": "stream",
          "name": "stdout",
          "text": [
            "[[ 1  2  3  4]\n",
            " [ 5  6  7  8]\n",
            " [ 9 10 11 12]]\n"
          ]
        }
      ],
      "source": [
        "unique_rows, indices, occurrence_count = np.unique(\n",
        "     a_2d, axis=0, return_counts=True, return_index=True)\n",
        "print(unique_rows)"
      ]
    },
    {
      "cell_type": "code",
      "execution_count": 109,
      "id": "49e69b92-89af-44fe-a624-52142dc16a92",
      "metadata": {
        "id": "49e69b92-89af-44fe-a624-52142dc16a92",
        "outputId": "d1c2301d-330a-4762-bc0c-11b2dc601457",
        "colab": {
          "base_uri": "https://localhost:8080/"
        }
      },
      "outputs": [
        {
          "output_type": "stream",
          "name": "stdout",
          "text": [
            "[0 1 2]\n"
          ]
        }
      ],
      "source": [
        "print(indices)"
      ]
    },
    {
      "cell_type": "code",
      "execution_count": 110,
      "id": "5a8f865b-90a9-4471-acc5-c5006b5580aa",
      "metadata": {
        "id": "5a8f865b-90a9-4471-acc5-c5006b5580aa",
        "outputId": "eb32500e-e089-4db2-d4eb-5cdbc13ea1bf",
        "colab": {
          "base_uri": "https://localhost:8080/"
        }
      },
      "outputs": [
        {
          "output_type": "stream",
          "name": "stdout",
          "text": [
            "[2 1 1]\n"
          ]
        }
      ],
      "source": [
        "print(occurrence_count)"
      ]
    },
    {
      "cell_type": "code",
      "execution_count": 111,
      "id": "630556e4-552b-409b-8217-d0d30b816818",
      "metadata": {
        "id": "630556e4-552b-409b-8217-d0d30b816818",
        "outputId": "e65a12be-314c-413f-e48e-3bda4d5ee24c",
        "colab": {
          "base_uri": "https://localhost:8080/"
        }
      },
      "outputs": [
        {
          "output_type": "execute_result",
          "data": {
            "text/plain": [
              "array([[1, 2, 3],\n",
              "       [4, 5, 6]])"
            ]
          },
          "metadata": {},
          "execution_count": 111
        }
      ],
      "source": [
        "# Transposing and reshaping a matrix\n",
        "data.reshape(2, 3)"
      ]
    },
    {
      "cell_type": "code",
      "execution_count": 112,
      "id": "47924743-c57b-4892-bc7a-35d66b1c5134",
      "metadata": {
        "id": "47924743-c57b-4892-bc7a-35d66b1c5134",
        "outputId": "211fb3dc-74d0-4c1e-b715-f10d18f794ac",
        "colab": {
          "base_uri": "https://localhost:8080/"
        }
      },
      "outputs": [
        {
          "output_type": "execute_result",
          "data": {
            "text/plain": [
              "array([[1, 2],\n",
              "       [3, 4],\n",
              "       [5, 6]])"
            ]
          },
          "metadata": {},
          "execution_count": 112
        }
      ],
      "source": [
        "data.reshape(3, 2)"
      ]
    },
    {
      "cell_type": "code",
      "execution_count": 113,
      "id": "9109330c-701a-4c06-8688-d788f5545574",
      "metadata": {
        "id": "9109330c-701a-4c06-8688-d788f5545574",
        "outputId": "167a4630-4f69-41b1-93da-e4d8acd5262a",
        "colab": {
          "base_uri": "https://localhost:8080/"
        }
      },
      "outputs": [
        {
          "output_type": "execute_result",
          "data": {
            "text/plain": [
              "array([[0, 1, 2],\n",
              "       [3, 4, 5]])"
            ]
          },
          "metadata": {},
          "execution_count": 113
        }
      ],
      "source": [
        "arr = np.arange(6).reshape((2, 3))\n",
        "arr"
      ]
    },
    {
      "cell_type": "code",
      "execution_count": 114,
      "id": "9469214c-bb01-461a-b9fd-025eb89aef7f",
      "metadata": {
        "id": "9469214c-bb01-461a-b9fd-025eb89aef7f",
        "outputId": "ec6e83b4-e0f8-4cbf-e1f0-c1896d442038",
        "colab": {
          "base_uri": "https://localhost:8080/"
        }
      },
      "outputs": [
        {
          "output_type": "execute_result",
          "data": {
            "text/plain": [
              "array([[0, 3],\n",
              "       [1, 4],\n",
              "       [2, 5]])"
            ]
          },
          "metadata": {},
          "execution_count": 114
        }
      ],
      "source": [
        "arr.transpose()"
      ]
    },
    {
      "cell_type": "code",
      "execution_count": 115,
      "id": "b9577add-1460-482a-85c6-861ecc4a2cbf",
      "metadata": {
        "id": "b9577add-1460-482a-85c6-861ecc4a2cbf",
        "outputId": "cdbebd22-8b8f-45a3-8eef-123c540e3db6",
        "colab": {
          "base_uri": "https://localhost:8080/"
        }
      },
      "outputs": [
        {
          "output_type": "execute_result",
          "data": {
            "text/plain": [
              "array([[0, 3],\n",
              "       [1, 4],\n",
              "       [2, 5]])"
            ]
          },
          "metadata": {},
          "execution_count": 115
        }
      ],
      "source": [
        "arr.T"
      ]
    },
    {
      "cell_type": "code",
      "execution_count": 116,
      "id": "02e0e898-2e03-40fc-8a69-6df4498ef83d",
      "metadata": {
        "id": "02e0e898-2e03-40fc-8a69-6df4498ef83d"
      },
      "outputs": [],
      "source": [
        "# How to reverse an array\n",
        "arr = np.array([1, 2, 3, 4, 5, 6, 7, 8])"
      ]
    },
    {
      "cell_type": "code",
      "execution_count": 117,
      "id": "a7997f46-406e-4d74-b831-eaec352e779d",
      "metadata": {
        "id": "a7997f46-406e-4d74-b831-eaec352e779d"
      },
      "outputs": [],
      "source": [
        "reversed_arr = np.flip(arr)"
      ]
    },
    {
      "cell_type": "code",
      "execution_count": 118,
      "id": "8274d6ad-17b5-404e-b8f7-64ed69421e5a",
      "metadata": {
        "id": "8274d6ad-17b5-404e-b8f7-64ed69421e5a",
        "outputId": "18a0caa8-079c-42e4-fa9a-adae3a19c3a1",
        "colab": {
          "base_uri": "https://localhost:8080/"
        }
      },
      "outputs": [
        {
          "output_type": "stream",
          "name": "stdout",
          "text": [
            "Reversed Array:  [8 7 6 5 4 3 2 1]\n"
          ]
        }
      ],
      "source": [
        "print('Reversed Array: ', reversed_arr)"
      ]
    },
    {
      "cell_type": "code",
      "execution_count": 119,
      "id": "6d9cbab7-28e0-4f82-a77c-55878224c0e1",
      "metadata": {
        "id": "6d9cbab7-28e0-4f82-a77c-55878224c0e1"
      },
      "outputs": [],
      "source": [
        "arr_2d = np.array([[1, 2, 3, 4], [5, 6, 7, 8], [9, 10, 11, 12]])"
      ]
    },
    {
      "cell_type": "code",
      "execution_count": 120,
      "id": "2faa4262-ee28-44e6-bda3-01b7f7537573",
      "metadata": {
        "id": "2faa4262-ee28-44e6-bda3-01b7f7537573",
        "outputId": "c6b02f41-0613-4643-8433-3e005821cbae",
        "colab": {
          "base_uri": "https://localhost:8080/"
        }
      },
      "outputs": [
        {
          "output_type": "stream",
          "name": "stdout",
          "text": [
            "[[12 11 10  9]\n",
            " [ 8  7  6  5]\n",
            " [ 4  3  2  1]]\n"
          ]
        }
      ],
      "source": [
        "reversed_arr = np.flip(arr_2d)\n",
        "print(reversed_arr)"
      ]
    },
    {
      "cell_type": "code",
      "execution_count": 121,
      "id": "99befcc1-1fa2-47cc-a930-2ee4d2041f40",
      "metadata": {
        "id": "99befcc1-1fa2-47cc-a930-2ee4d2041f40",
        "outputId": "bb9fcf16-8d00-4f31-ac95-0804786f3acf",
        "colab": {
          "base_uri": "https://localhost:8080/"
        }
      },
      "outputs": [
        {
          "output_type": "stream",
          "name": "stdout",
          "text": [
            "[[ 9 10 11 12]\n",
            " [ 5  6  7  8]\n",
            " [ 1  2  3  4]]\n"
          ]
        }
      ],
      "source": [
        "reversed_arr_rows = np.flip(arr_2d, axis=0)\n",
        "print(reversed_arr_rows)"
      ]
    },
    {
      "cell_type": "code",
      "execution_count": 122,
      "id": "a28fd7b9-bbe7-41f3-acaa-8314bd561811",
      "metadata": {
        "id": "a28fd7b9-bbe7-41f3-acaa-8314bd561811",
        "outputId": "2b367262-d5c2-4a53-8d0c-e31eef69b2bb",
        "colab": {
          "base_uri": "https://localhost:8080/"
        }
      },
      "outputs": [
        {
          "output_type": "stream",
          "name": "stdout",
          "text": [
            "[[ 4  3  2  1]\n",
            " [ 8  7  6  5]\n",
            " [12 11 10  9]]\n"
          ]
        }
      ],
      "source": [
        "reversed_arr_columns = np.flip(arr_2d, axis=1)\n",
        "print(reversed_arr_columns)"
      ]
    },
    {
      "cell_type": "code",
      "execution_count": 123,
      "id": "a4688868-f7c6-4167-9be9-f3ce2c5bf045",
      "metadata": {
        "id": "a4688868-f7c6-4167-9be9-f3ce2c5bf045",
        "outputId": "499bfbbd-ee1a-4983-de29-bad479266b5f",
        "colab": {
          "base_uri": "https://localhost:8080/"
        }
      },
      "outputs": [
        {
          "output_type": "stream",
          "name": "stdout",
          "text": [
            "[[ 1  2  3  4]\n",
            " [ 8  7  6  5]\n",
            " [ 9 10 11 12]]\n"
          ]
        }
      ],
      "source": [
        "arr_2d[1] = np.flip(arr_2d[1])\n",
        "print(arr_2d)"
      ]
    },
    {
      "cell_type": "code",
      "execution_count": 124,
      "id": "40cc1f46-c9bf-48f4-8c96-10035ccb0aa5",
      "metadata": {
        "id": "40cc1f46-c9bf-48f4-8c96-10035ccb0aa5",
        "outputId": "4b09908b-08cf-4e5b-9238-e459d7c5bfc1",
        "colab": {
          "base_uri": "https://localhost:8080/"
        }
      },
      "outputs": [
        {
          "output_type": "stream",
          "name": "stdout",
          "text": [
            "[[ 1 10  3  4]\n",
            " [ 8  7  6  5]\n",
            " [ 9  2 11 12]]\n"
          ]
        }
      ],
      "source": [
        "arr_2d[:,1] = np.flip(arr_2d[:,1])\n",
        "print(arr_2d)"
      ]
    },
    {
      "cell_type": "code",
      "execution_count": 125,
      "id": "3940cfba-3cc7-44e4-8703-a7d20339e40d",
      "metadata": {
        "id": "3940cfba-3cc7-44e4-8703-a7d20339e40d"
      },
      "outputs": [],
      "source": [
        "# Reshaping and flattening multidimensional arrays\n",
        "x = np.array([[1 , 2, 3, 4], [5, 6, 7, 8], [9, 10, 11, 12]])"
      ]
    },
    {
      "cell_type": "code",
      "execution_count": 126,
      "id": "2ae5a2be-debc-473c-a275-3a44636315ec",
      "metadata": {
        "id": "2ae5a2be-debc-473c-a275-3a44636315ec",
        "outputId": "7365ebc6-25df-4000-c6dc-c1657e977583",
        "colab": {
          "base_uri": "https://localhost:8080/"
        }
      },
      "outputs": [
        {
          "output_type": "execute_result",
          "data": {
            "text/plain": [
              "array([ 1,  2,  3,  4,  5,  6,  7,  8,  9, 10, 11, 12])"
            ]
          },
          "metadata": {},
          "execution_count": 126
        }
      ],
      "source": [
        "x.flatten()"
      ]
    },
    {
      "cell_type": "code",
      "execution_count": 127,
      "id": "e4f848a0-63b0-4832-b485-315be04f9740",
      "metadata": {
        "id": "e4f848a0-63b0-4832-b485-315be04f9740",
        "outputId": "acf61dc3-f4ae-4c4d-b923-d793590c4062",
        "colab": {
          "base_uri": "https://localhost:8080/"
        }
      },
      "outputs": [
        {
          "output_type": "stream",
          "name": "stdout",
          "text": [
            "[[ 1  2  3  4]\n",
            " [ 5  6  7  8]\n",
            " [ 9 10 11 12]]\n"
          ]
        }
      ],
      "source": [
        "a1 = x.flatten()\n",
        "a1[0] = 99\n",
        "print(x)"
      ]
    },
    {
      "cell_type": "code",
      "execution_count": 128,
      "id": "34dd95ac-0f91-431e-b9c3-d4e900c537c3",
      "metadata": {
        "id": "34dd95ac-0f91-431e-b9c3-d4e900c537c3",
        "outputId": "18cf5c29-e85a-490d-d6a1-a68daa137e26",
        "colab": {
          "base_uri": "https://localhost:8080/"
        }
      },
      "outputs": [
        {
          "output_type": "stream",
          "name": "stdout",
          "text": [
            "[99  2  3  4  5  6  7  8  9 10 11 12]\n"
          ]
        }
      ],
      "source": [
        "print(a1)"
      ]
    },
    {
      "cell_type": "code",
      "execution_count": 129,
      "id": "3b0ad6ea-e8ad-43f8-ac7e-c056e32eb630",
      "metadata": {
        "id": "3b0ad6ea-e8ad-43f8-ac7e-c056e32eb630",
        "outputId": "39fbe0c0-9e76-426f-c5cc-60b22f956157",
        "colab": {
          "base_uri": "https://localhost:8080/"
        }
      },
      "outputs": [
        {
          "output_type": "stream",
          "name": "stdout",
          "text": [
            "[[98  2  3  4]\n",
            " [ 5  6  7  8]\n",
            " [ 9 10 11 12]]\n"
          ]
        }
      ],
      "source": [
        "a2 = x.ravel()\n",
        "a2[0] = 98\n",
        "print(x)"
      ]
    },
    {
      "cell_type": "code",
      "execution_count": 130,
      "id": "179b87dc-66cf-4549-8eb0-1fa1bb951248",
      "metadata": {
        "id": "179b87dc-66cf-4549-8eb0-1fa1bb951248",
        "outputId": "d3fecd94-774a-45be-cc12-a4325dcdb724",
        "colab": {
          "base_uri": "https://localhost:8080/"
        }
      },
      "outputs": [
        {
          "output_type": "stream",
          "name": "stdout",
          "text": [
            "[98  2  3  4  5  6  7  8  9 10 11 12]\n"
          ]
        }
      ],
      "source": [
        "print(a2)"
      ]
    }
  ],
  "metadata": {
    "kernelspec": {
      "display_name": "Python 3 (ipykernel)",
      "language": "python",
      "name": "python3"
    },
    "language_info": {
      "codemirror_mode": {
        "name": "ipython",
        "version": 3
      },
      "file_extension": ".py",
      "mimetype": "text/x-python",
      "name": "python",
      "nbconvert_exporter": "python",
      "pygments_lexer": "ipython3",
      "version": "3.10.0"
    },
    "colab": {
      "provenance": [],
      "include_colab_link": true
    }
  },
  "nbformat": 4,
  "nbformat_minor": 5
}