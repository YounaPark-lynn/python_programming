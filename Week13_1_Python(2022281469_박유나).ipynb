{
  "cells": [
    {
      "cell_type": "markdown",
      "metadata": {
        "id": "view-in-github",
        "colab_type": "text"
      },
      "source": [
        "<a href=\"https://colab.research.google.com/github/YounaPark-lynn/python_programming/blob/main/Week13_1_Python(2022281469_%E1%84%87%E1%85%A1%E1%86%A8%E1%84%8B%E1%85%B2%E1%84%82%E1%85%A1).ipynb\" target=\"_parent\"><img src=\"https://colab.research.google.com/assets/colab-badge.svg\" alt=\"Open In Colab\"/></a>"
      ]
    },
    {
      "cell_type": "markdown",
      "id": "1b248da6-4159-4181-a615-32f5118db9ae",
      "metadata": {
        "id": "1b248da6-4159-4181-a615-32f5118db9ae"
      },
      "source": [
        "### XML 파싱"
      ]
    },
    {
      "cell_type": "code",
      "execution_count": 26,
      "id": "7238e091-994a-402b-ab69-18371d60be8a",
      "metadata": {
        "id": "7238e091-994a-402b-ab69-18371d60be8a"
      },
      "outputs": [],
      "source": [
        "import xml.etree.ElementTree as et\n",
        "tree = et.ElementTree(file='/content/sample_data/menu.xml')\n",
        "root = tree.getroot()"
      ]
    },
    {
      "cell_type": "code",
      "execution_count": 27,
      "id": "6d98610a-a8bd-4542-8518-0086af62edfd",
      "metadata": {
        "colab": {
          "base_uri": "https://localhost:8080/"
        },
        "id": "6d98610a-a8bd-4542-8518-0086af62edfd",
        "outputId": "009169f4-295d-4714-a45a-889ac204dbb8"
      },
      "outputs": [
        {
          "output_type": "stream",
          "name": "stdout",
          "text": [
            "menu\n"
          ]
        }
      ],
      "source": [
        "print(root.tag)"
      ]
    },
    {
      "cell_type": "code",
      "execution_count": 28,
      "id": "05b54c92-7a08-4a1d-94f4-043a96d1d9dc",
      "metadata": {
        "colab": {
          "base_uri": "https://localhost:8080/"
        },
        "id": "05b54c92-7a08-4a1d-94f4-043a96d1d9dc",
        "outputId": "e78a06c3-8baf-4d13-d94a-042fa320b633"
      },
      "outputs": [
        {
          "output_type": "stream",
          "name": "stdout",
          "text": [
            "tag: breakfast attributes: {'hours': '7-11'}\n",
            "\ttag: item attributes: {'price': '$6.00'}\n",
            "\ttag: item attributes: {'price': '$4.00'}\n",
            "tag: lunch attributes: {'hours': '11-3'}\n",
            "\ttag: item attributes: {'price': '$5.00'}\n",
            "tag: dinner attributes: {'hours': '3-10'}\n",
            "\ttag: item attributes: {'price': '8.00'}\n"
          ]
        }
      ],
      "source": [
        "for child in root:\n",
        "    print('tag:', child.tag, 'attributes:', child.attrib)\n",
        "    for grandchild in child:\n",
        "        print('\\ttag:', grandchild.tag, 'attributes:', grandchild.attrib)"
      ]
    },
    {
      "cell_type": "code",
      "execution_count": 29,
      "id": "eba19faa-394d-4c56-b277-c9f1687e094a",
      "metadata": {
        "colab": {
          "base_uri": "https://localhost:8080/"
        },
        "id": "eba19faa-394d-4c56-b277-c9f1687e094a",
        "outputId": "1ebb5199-e906-4156-ccd2-3922fc0728aa"
      },
      "outputs": [
        {
          "output_type": "execute_result",
          "data": {
            "text/plain": [
              "3"
            ]
          },
          "metadata": {},
          "execution_count": 29
        }
      ],
      "source": [
        "len(root)"
      ]
    },
    {
      "cell_type": "code",
      "execution_count": 30,
      "id": "7520b939-a445-472e-ad04-504ec479c890",
      "metadata": {
        "colab": {
          "base_uri": "https://localhost:8080/"
        },
        "id": "7520b939-a445-472e-ad04-504ec479c890",
        "outputId": "cef68f4e-4432-4833-a202-b7da95346a13"
      },
      "outputs": [
        {
          "output_type": "execute_result",
          "data": {
            "text/plain": [
              "2"
            ]
          },
          "metadata": {},
          "execution_count": 30
        }
      ],
      "source": [
        "len(root[0])"
      ]
    },
    {
      "cell_type": "code",
      "execution_count": 31,
      "id": "ebfe4bf2-c8e6-47a8-9e57-bca8b35898e5",
      "metadata": {
        "colab": {
          "base_uri": "https://localhost:8080/"
        },
        "id": "ebfe4bf2-c8e6-47a8-9e57-bca8b35898e5",
        "outputId": "3e50c9c9-cc01-46c9-a4e0-7e94dcf6aa19"
      },
      "outputs": [
        {
          "output_type": "execute_result",
          "data": {
            "text/plain": [
              "xml.etree.ElementTree.Element"
            ]
          },
          "metadata": {},
          "execution_count": 31
        }
      ],
      "source": [
        "type(root[0])"
      ]
    },
    {
      "cell_type": "code",
      "execution_count": 32,
      "id": "84f12011-48ef-4ff3-8c91-fa6e855cfe8f",
      "metadata": {
        "colab": {
          "base_uri": "https://localhost:8080/"
        },
        "id": "84f12011-48ef-4ff3-8c91-fa6e855cfe8f",
        "outputId": "d96bd62f-8edf-46d5-9045-50b0af6a9a78"
      },
      "outputs": [
        {
          "output_type": "stream",
          "name": "stdout",
          "text": [
            "<Element 'breakfast' at 0x7f325434dbc0>\n",
            "7-11\n",
            "['hours']\n",
            "[('hours', '7-11')]\n"
          ]
        }
      ],
      "source": [
        "print(root[0])\n",
        "print(root[0].get(\"hours\"))\n",
        "print(root[0].keys())\n",
        "print(root[0].items())"
      ]
    },
    {
      "cell_type": "code",
      "execution_count": 33,
      "id": "096e6c75-8dda-4792-8e88-4cc200f608c8",
      "metadata": {
        "colab": {
          "base_uri": "https://localhost:8080/"
        },
        "id": "096e6c75-8dda-4792-8e88-4cc200f608c8",
        "outputId": "e5be1596-c028-4c15-8c9a-152af361777f"
      },
      "outputs": [
        {
          "output_type": "stream",
          "name": "stdout",
          "text": [
            "<Element 'lunch' at 0x7f325434dd00>\n",
            "11-3\n",
            "['hours']\n",
            "[('hours', '11-3')]\n"
          ]
        }
      ],
      "source": [
        "lunch = root.find(\"lunch\")\n",
        "print(lunch)\n",
        "print(lunch.get(\"hours\"))\n",
        "print(lunch.keys())\n",
        "print(lunch.items())"
      ]
    },
    {
      "cell_type": "code",
      "execution_count": 34,
      "id": "1f1816ea-bfce-4ea5-b60e-cc7aaca94d27",
      "metadata": {
        "colab": {
          "base_uri": "https://localhost:8080/"
        },
        "id": "1f1816ea-bfce-4ea5-b60e-cc7aaca94d27",
        "outputId": "ef918080-3597-4860-8b60-f0adc70a2f50"
      },
      "outputs": [
        {
          "output_type": "stream",
          "name": "stdout",
          "text": [
            "[<Element 'item' at 0x7f325434dc10>, <Element 'item' at 0x7f325434dcb0>]\n"
          ]
        }
      ],
      "source": [
        "print(root[0].findall('item'))"
      ]
    },
    {
      "cell_type": "code",
      "execution_count": 35,
      "id": "7fbde6bf-b0c6-4ba0-af8a-913ec777b1c9",
      "metadata": {
        "colab": {
          "base_uri": "https://localhost:8080/"
        },
        "id": "7fbde6bf-b0c6-4ba0-af8a-913ec777b1c9",
        "outputId": "02718ff2-e42f-4792-ff6e-77792fce5cd3"
      },
      "outputs": [
        {
          "output_type": "stream",
          "name": "stdout",
          "text": [
            "$6.00\n",
            "breakfast burritos\n",
            "$4.00\n",
            "pancakes\n"
          ]
        }
      ],
      "source": [
        "for item in root[0].findall('item'):\n",
        "    print(item.get('price'))\n",
        "    print(item.text)"
      ]
    },
    {
      "cell_type": "markdown",
      "id": "94bd7763-699b-44cf-9c59-dbb7074a7edc",
      "metadata": {
        "id": "94bd7763-699b-44cf-9c59-dbb7074a7edc"
      },
      "source": [
        "### JSON"
      ]
    },
    {
      "cell_type": "code",
      "execution_count": 36,
      "id": "f3237cd7-e440-4b7d-8faf-4237c6c6c61f",
      "metadata": {
        "colab": {
          "base_uri": "https://localhost:8080/"
        },
        "id": "f3237cd7-e440-4b7d-8faf-4237c6c6c61f",
        "outputId": "76fe1c4b-8a69-4e72-b4a4-d15d71533cbb"
      },
      "outputs": [
        {
          "output_type": "execute_result",
          "data": {
            "text/plain": [
              "{'name': '홍길동', 'birth': '0525', 'age': 30}"
            ]
          },
          "metadata": {},
          "execution_count": 36
        }
      ],
      "source": [
        "import json\n",
        "\n",
        "j1 = {\"name\":\"홍길동\", \"birth\":\"0525\", \"age\":30}\n",
        "j1"
      ]
    },
    {
      "cell_type": "code",
      "execution_count": 37,
      "id": "fc4f353d-3bb0-4945-8fa2-57149508e3ed",
      "metadata": {
        "colab": {
          "base_uri": "https://localhost:8080/",
          "height": 36
        },
        "id": "fc4f353d-3bb0-4945-8fa2-57149508e3ed",
        "outputId": "f4069f44-15bf-427e-9aaa-fd71d4c41d8b"
      },
      "outputs": [
        {
          "output_type": "execute_result",
          "data": {
            "text/plain": [
              "'{\"name\": \"\\\\ud64d\\\\uae38\\\\ub3d9\", \"birth\": \"0525\", \"age\": 30}'"
            ],
            "application/vnd.google.colaboratory.intrinsic+json": {
              "type": "string"
            }
          },
          "metadata": {},
          "execution_count": 37
        }
      ],
      "source": [
        "json.dumps(j1)"
      ]
    },
    {
      "cell_type": "code",
      "execution_count": 38,
      "id": "5df903a1-7d04-4dff-acbe-f88b2d6d4baa",
      "metadata": {
        "colab": {
          "base_uri": "https://localhost:8080/"
        },
        "id": "5df903a1-7d04-4dff-acbe-f88b2d6d4baa",
        "outputId": "4c9b89e6-595b-4044-92c9-9e7997a2e4fe"
      },
      "outputs": [
        {
          "output_type": "stream",
          "name": "stdout",
          "text": [
            "{\n",
            "  \"name\": \"\\ud64d\\uae38\\ub3d9\",\n",
            "  \"birth\": \"0525\",\n",
            "  \"age\": 30\n",
            "}\n"
          ]
        }
      ],
      "source": [
        "print(json.dumps(j1, indent=2))"
      ]
    },
    {
      "cell_type": "code",
      "execution_count": 39,
      "id": "4e400283-533f-4be8-89c7-fad34655bb74",
      "metadata": {
        "colab": {
          "base_uri": "https://localhost:8080/",
          "height": 36
        },
        "id": "4e400283-533f-4be8-89c7-fad34655bb74",
        "outputId": "b230018d-88b8-4172-cda4-36fd898b9575"
      },
      "outputs": [
        {
          "output_type": "execute_result",
          "data": {
            "text/plain": [
              "'[1, 2, 3]'"
            ],
            "application/vnd.google.colaboratory.intrinsic+json": {
              "type": "string"
            }
          },
          "metadata": {},
          "execution_count": 39
        }
      ],
      "source": [
        "json.dumps([1,2,3])"
      ]
    },
    {
      "cell_type": "code",
      "execution_count": 40,
      "id": "52032c13-b910-4c18-922c-cd1d393b1dce",
      "metadata": {
        "colab": {
          "base_uri": "https://localhost:8080/",
          "height": 36
        },
        "id": "52032c13-b910-4c18-922c-cd1d393b1dce",
        "outputId": "a93081c6-f8e1-41fd-f9b4-18c3f9629cdb"
      },
      "outputs": [
        {
          "output_type": "execute_result",
          "data": {
            "text/plain": [
              "'[4, 5, 6]'"
            ],
            "application/vnd.google.colaboratory.intrinsic+json": {
              "type": "string"
            }
          },
          "metadata": {},
          "execution_count": 40
        }
      ],
      "source": [
        "json.dumps((4,5,6))"
      ]
    },
    {
      "cell_type": "code",
      "execution_count": 41,
      "id": "b25ea7cf-f19f-41c9-96af-a6d96ea734b6",
      "metadata": {
        "colab": {
          "base_uri": "https://localhost:8080/"
        },
        "id": "b25ea7cf-f19f-41c9-96af-a6d96ea734b6",
        "outputId": "4ac36d79-395e-4566-cbfa-de6479a4739b"
      },
      "outputs": [
        {
          "output_type": "execute_result",
          "data": {
            "text/plain": [
              "{'name': '홍길동', 'birth': '0525', 'age': 30}"
            ]
          },
          "metadata": {},
          "execution_count": 41
        }
      ],
      "source": [
        "j1 = {\"name\":\"홍길동\", \"birth\":\"0525\", \"age\":30}\n",
        "d1 = json.dumps(j1)\n",
        "json.loads(d1)"
      ]
    },
    {
      "cell_type": "code",
      "execution_count": 42,
      "id": "bc7b5ad8-3983-4f22-926f-cbaf544b6f95",
      "metadata": {
        "id": "bc7b5ad8-3983-4f22-926f-cbaf544b6f95"
      },
      "outputs": [],
      "source": [
        "with open('/content/sample_data/myinfo.json') as f:\n",
        "    data = json.load(f)"
      ]
    },
    {
      "cell_type": "code",
      "execution_count": 43,
      "id": "16586641-c243-41cd-a09e-549d5a3ca73d",
      "metadata": {
        "colab": {
          "base_uri": "https://localhost:8080/"
        },
        "id": "16586641-c243-41cd-a09e-549d5a3ca73d",
        "outputId": "c16f35c7-b7b4-4a9c-d4b1-d71a38487a6e"
      },
      "outputs": [
        {
          "output_type": "stream",
          "name": "stdout",
          "text": [
            "<class 'dict'>\n"
          ]
        }
      ],
      "source": [
        "print(type(data))"
      ]
    },
    {
      "cell_type": "code",
      "execution_count": 44,
      "id": "9e05c150-a68d-4638-8341-6aa0c36f8503",
      "metadata": {
        "colab": {
          "base_uri": "https://localhost:8080/"
        },
        "id": "9e05c150-a68d-4638-8341-6aa0c36f8503",
        "outputId": "e0154b29-4769-4aa8-acb5-abda4a3189a9"
      },
      "outputs": [
        {
          "output_type": "stream",
          "name": "stdout",
          "text": [
            "{'name': '홍길동', 'birth': '0525', 'age': 30}\n"
          ]
        }
      ],
      "source": [
        "print(data)"
      ]
    },
    {
      "cell_type": "markdown",
      "id": "bcb7ddf1-bf61-4604-9b9c-a01878322a19",
      "metadata": {
        "id": "bcb7ddf1-bf61-4604-9b9c-a01878322a19"
      },
      "source": [
        "### Web Scraping"
      ]
    },
    {
      "cell_type": "code",
      "execution_count": 45,
      "id": "cbd635a4-6407-4528-8940-6c377aa56596",
      "metadata": {
        "id": "cbd635a4-6407-4528-8940-6c377aa56596"
      },
      "outputs": [],
      "source": [
        "from urllib.request import urlopen"
      ]
    },
    {
      "cell_type": "code",
      "execution_count": 46,
      "id": "0659c9cb-1bba-4588-ab06-f9d20c549d32",
      "metadata": {
        "id": "0659c9cb-1bba-4588-ab06-f9d20c549d32"
      },
      "outputs": [],
      "source": [
        "html = urlopen(\"http://pythonscraping.com/pages/page1.html\")"
      ]
    },
    {
      "cell_type": "code",
      "execution_count": 47,
      "id": "5ad7f4aa-87ca-4c2d-a367-7c798f5dffcc",
      "metadata": {
        "colab": {
          "base_uri": "https://localhost:8080/"
        },
        "id": "5ad7f4aa-87ca-4c2d-a367-7c798f5dffcc",
        "outputId": "0142abe1-ce3f-4188-ddff-360bf4fcab14"
      },
      "outputs": [
        {
          "output_type": "stream",
          "name": "stdout",
          "text": [
            "b'<html>\\n<head>\\n<title>A Useful Page</title>\\n</head>\\n<body>\\n<h1>An Interesting Title</h1>\\n<div>\\nLorem ipsum dolor sit amet, consectetur adipisicing elit, sed do eiusmod tempor incididunt ut labore et dolore magna aliqua. Ut enim ad minim veniam, quis nostrud exercitation ullamco laboris nisi ut aliquip ex ea commodo consequat. Duis aute irure dolor in reprehenderit in voluptate velit esse cillum dolore eu fugiat nulla pariatur. Excepteur sint occaecat cupidatat non proident, sunt in culpa qui officia deserunt mollit anim id est laborum.\\n</div>\\n</body>\\n</html>\\n'\n"
          ]
        }
      ],
      "source": [
        "print(html.read())"
      ]
    },
    {
      "cell_type": "code",
      "execution_count": 48,
      "id": "f1c10431-6b88-4ed6-b448-0324f9f91905",
      "metadata": {
        "id": "f1c10431-6b88-4ed6-b448-0324f9f91905"
      },
      "outputs": [],
      "source": [
        "from bs4 import BeautifulSoup"
      ]
    },
    {
      "cell_type": "code",
      "execution_count": 49,
      "id": "db833356-241f-4c7f-a509-b14b956e2f1c",
      "metadata": {
        "id": "db833356-241f-4c7f-a509-b14b956e2f1c"
      },
      "outputs": [],
      "source": [
        "html = urlopen(\"http://pythonscraping.com/pages/page1.html\")\n",
        "bsObj = BeautifulSoup(html.read(), \"html.parser\")"
      ]
    },
    {
      "cell_type": "code",
      "execution_count": 50,
      "id": "3dc0b6a5-54bf-4c2f-ab50-a78fefc4a966",
      "metadata": {
        "colab": {
          "base_uri": "https://localhost:8080/"
        },
        "id": "3dc0b6a5-54bf-4c2f-ab50-a78fefc4a966",
        "outputId": "5eddc2be-0015-4487-fe96-480b739f9bfa"
      },
      "outputs": [
        {
          "output_type": "stream",
          "name": "stdout",
          "text": [
            "<h1>An Interesting Title</h1>\n"
          ]
        }
      ],
      "source": [
        "print(bsObj.h1)"
      ]
    },
    {
      "cell_type": "code",
      "execution_count": 51,
      "id": "9351f0fd-e6bf-4e84-818a-647ff4ea1803",
      "metadata": {
        "colab": {
          "base_uri": "https://localhost:8080/"
        },
        "id": "9351f0fd-e6bf-4e84-818a-647ff4ea1803",
        "outputId": "41ea70db-9711-4625-c33b-74b03a1dc642"
      },
      "outputs": [
        {
          "output_type": "stream",
          "name": "stdout",
          "text": [
            "<html>\n",
            " <head>\n",
            "  <title>\n",
            "   A Useful Page\n",
            "  </title>\n",
            " </head>\n",
            " <body>\n",
            "  <h1>\n",
            "   An Interesting Title\n",
            "  </h1>\n",
            "  <div>\n",
            "   Lorem ipsum dolor sit amet, consectetur adipisicing elit, sed do eiusmod tempor incididunt ut labore et dolore magna aliqua. Ut enim ad minim veniam, quis nostrud exercitation ullamco laboris nisi ut aliquip ex ea commodo consequat. Duis aute irure dolor in reprehenderit in voluptate velit esse cillum dolore eu fugiat nulla pariatur. Excepteur sint occaecat cupidatat non proident, sunt in culpa qui officia deserunt mollit anim id est laborum.\n",
            "  </div>\n",
            " </body>\n",
            "</html>\n",
            "\n"
          ]
        }
      ],
      "source": [
        "print(bsObj.html.prettify())"
      ]
    },
    {
      "cell_type": "code",
      "execution_count": 51,
      "id": "a05d76c0-6615-4ee7-b08d-5eb418c08c06",
      "metadata": {
        "id": "a05d76c0-6615-4ee7-b08d-5eb418c08c06"
      },
      "outputs": [],
      "source": []
    }
  ],
  "metadata": {
    "kernelspec": {
      "display_name": "Python 3 (ipykernel)",
      "language": "python",
      "name": "python3"
    },
    "language_info": {
      "codemirror_mode": {
        "name": "ipython",
        "version": 3
      },
      "file_extension": ".py",
      "mimetype": "text/x-python",
      "name": "python",
      "nbconvert_exporter": "python",
      "pygments_lexer": "ipython3",
      "version": "3.10.0"
    },
    "colab": {
      "provenance": [],
      "include_colab_link": true
    }
  },
  "nbformat": 4,
  "nbformat_minor": 5
}