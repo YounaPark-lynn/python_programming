{
  "cells": [
    {
      "cell_type": "markdown",
      "metadata": {
        "id": "view-in-github",
        "colab_type": "text"
      },
      "source": [
        "<a href=\"https://colab.research.google.com/github/YounaPark-lynn/python_programming/blob/main/Week9_Python(2022281469_%E1%84%87%E1%85%A1%E1%86%A8%E1%84%8B%E1%85%B2%E1%84%82%E1%85%A1).ipynb\" target=\"_parent\"><img src=\"https://colab.research.google.com/assets/colab-badge.svg\" alt=\"Open In Colab\"/></a>"
      ]
    },
    {
      "cell_type": "markdown",
      "id": "63c3c0ae-d0b1-4ed6-aad3-e2b79d33bdad",
      "metadata": {
        "id": "63c3c0ae-d0b1-4ed6-aad3-e2b79d33bdad"
      },
      "source": [
        "### List Comprehension"
      ]
    },
    {
      "cell_type": "code",
      "execution_count": 1,
      "id": "89e91478-b78e-450d-810f-672b4895a2ab",
      "metadata": {
        "id": "89e91478-b78e-450d-810f-672b4895a2ab"
      },
      "outputs": [],
      "source": [
        "# 1부터 5까지의 정수 리스트 만들기\n",
        "number_list = []\n",
        "number_list.append(1)\n",
        "number_list.append(2)\n",
        "number_list.append(3)\n",
        "number_list.append(4)\n",
        "number_list.append(5)"
      ]
    },
    {
      "cell_type": "code",
      "execution_count": 2,
      "id": "6c4af660-f8de-4010-9e25-3f447cfe5320",
      "metadata": {
        "colab": {
          "base_uri": "https://localhost:8080/"
        },
        "id": "6c4af660-f8de-4010-9e25-3f447cfe5320",
        "outputId": "5d6a8361-7e43-41f7-d30c-3788ac0fe0c9"
      },
      "outputs": [
        {
          "output_type": "execute_result",
          "data": {
            "text/plain": [
              "[1, 2, 3, 4, 5]"
            ]
          },
          "metadata": {},
          "execution_count": 2
        }
      ],
      "source": [
        "number_list"
      ]
    },
    {
      "cell_type": "code",
      "execution_count": 3,
      "id": "30254934-2a67-4c32-82ce-a3ef166cedac",
      "metadata": {
        "id": "30254934-2a67-4c32-82ce-a3ef166cedac"
      },
      "outputs": [],
      "source": [
        "number_list = []\n",
        "for number in range(1,6):\n",
        "    number_list.append(number)"
      ]
    },
    {
      "cell_type": "code",
      "execution_count": 4,
      "id": "e238cd87-cca6-4841-9d7f-eb66028824ba",
      "metadata": {
        "colab": {
          "base_uri": "https://localhost:8080/"
        },
        "id": "e238cd87-cca6-4841-9d7f-eb66028824ba",
        "outputId": "d033843d-d0a6-4dbb-82d8-4f927a40b0fd"
      },
      "outputs": [
        {
          "output_type": "execute_result",
          "data": {
            "text/plain": [
              "[1, 2, 3, 4, 5]"
            ]
          },
          "metadata": {},
          "execution_count": 4
        }
      ],
      "source": [
        "number_list"
      ]
    },
    {
      "cell_type": "code",
      "execution_count": 5,
      "id": "2c56afa0-fa95-48c9-868f-d678b449306b",
      "metadata": {
        "colab": {
          "base_uri": "https://localhost:8080/"
        },
        "id": "2c56afa0-fa95-48c9-868f-d678b449306b",
        "outputId": "2e878126-8c1c-4357-8b91-5092e4137e19"
      },
      "outputs": [
        {
          "output_type": "execute_result",
          "data": {
            "text/plain": [
              "[1, 2, 3, 4, 5]"
            ]
          },
          "metadata": {},
          "execution_count": 5
        }
      ],
      "source": [
        "number_list = list(range(1,6))\n",
        "number_list"
      ]
    },
    {
      "cell_type": "code",
      "execution_count": 6,
      "id": "b8d38908-92a8-4558-a59a-147460d192f2",
      "metadata": {
        "colab": {
          "base_uri": "https://localhost:8080/"
        },
        "id": "b8d38908-92a8-4558-a59a-147460d192f2",
        "outputId": "acfe233c-4045-4e6d-feb6-c44cf019283a"
      },
      "outputs": [
        {
          "output_type": "execute_result",
          "data": {
            "text/plain": [
              "[1, 2, 3, 4, 5]"
            ]
          },
          "metadata": {},
          "execution_count": 6
        }
      ],
      "source": [
        "number_list = [number for number in range(1,6)]\n",
        "number_list"
      ]
    },
    {
      "cell_type": "code",
      "execution_count": 7,
      "id": "2d145dd6-105b-4102-8649-deeeb07e1967",
      "metadata": {
        "colab": {
          "base_uri": "https://localhost:8080/"
        },
        "id": "2d145dd6-105b-4102-8649-deeeb07e1967",
        "outputId": "15e504d3-bbd6-4cd1-e2b4-4943ad9ba514"
      },
      "outputs": [
        {
          "output_type": "execute_result",
          "data": {
            "text/plain": [
              "[0, 1, 2, 3, 4]"
            ]
          },
          "metadata": {},
          "execution_count": 7
        }
      ],
      "source": [
        "# 함수 적용\n",
        "number_list = [number-1 for number in range(1,6)]\n",
        "number_list"
      ]
    },
    {
      "cell_type": "code",
      "execution_count": 8,
      "id": "80cc5707-0ac3-4766-8ba9-b96c4a0bc601",
      "metadata": {
        "colab": {
          "base_uri": "https://localhost:8080/"
        },
        "id": "80cc5707-0ac3-4766-8ba9-b96c4a0bc601",
        "outputId": "de935e93-5c7a-4067-a074-d4460ced5686"
      },
      "outputs": [
        {
          "output_type": "execute_result",
          "data": {
            "text/plain": [
              "[1, 3, 5]"
            ]
          },
          "metadata": {},
          "execution_count": 8
        }
      ],
      "source": [
        "# 조건 적용\n",
        "a_list = [number for number in range(1,6) if number % 2 == 1]\n",
        "a_list"
      ]
    },
    {
      "cell_type": "code",
      "execution_count": 9,
      "id": "8bec93d0-2baf-4fe1-a57b-6426e721f1ef",
      "metadata": {
        "colab": {
          "base_uri": "https://localhost:8080/"
        },
        "id": "8bec93d0-2baf-4fe1-a57b-6426e721f1ef",
        "outputId": "98d0ab5c-9eb8-4bb1-e93a-7377df0249b9"
      },
      "outputs": [
        {
          "output_type": "execute_result",
          "data": {
            "text/plain": [
              "[1, 3, 5]"
            ]
          },
          "metadata": {},
          "execution_count": 9
        }
      ],
      "source": [
        "a_list = []\n",
        "for number in range(1,6):\n",
        "    if number % 2 == 1:\n",
        "        a_list.append(number)\n",
        "a_list"
      ]
    },
    {
      "cell_type": "code",
      "execution_count": 10,
      "id": "87493663-8ca1-4bd7-a300-0f9276575966",
      "metadata": {
        "id": "87493663-8ca1-4bd7-a300-0f9276575966"
      },
      "outputs": [],
      "source": [
        "sentence = ['I', 'Love', 'Python', 'Soooooo', 'MUCH!!!']"
      ]
    },
    {
      "cell_type": "code",
      "execution_count": 11,
      "id": "44e31bab-3a52-4c0e-b572-3d27cf791414",
      "metadata": {
        "colab": {
          "base_uri": "https://localhost:8080/"
        },
        "id": "44e31bab-3a52-4c0e-b572-3d27cf791414",
        "outputId": "d378069c-3ba9-4785-88fd-b73b6e467cf1"
      },
      "outputs": [
        {
          "output_type": "execute_result",
          "data": {
            "text/plain": [
              "['i', 'love', 'python', 'soooooo', 'much!!!']"
            ]
          },
          "metadata": {},
          "execution_count": 11
        }
      ],
      "source": [
        "# 함수 적용\n",
        "[word.lower() for word in sentence]"
      ]
    },
    {
      "cell_type": "code",
      "execution_count": 12,
      "id": "dc3fdd52-1a1c-4d46-8575-bfd230a4d3b7",
      "metadata": {
        "colab": {
          "base_uri": "https://localhost:8080/"
        },
        "id": "dc3fdd52-1a1c-4d46-8575-bfd230a4d3b7",
        "outputId": "b2b02354-66fe-42a8-c115-62373e5dd7b7"
      },
      "outputs": [
        {
          "output_type": "execute_result",
          "data": {
            "text/plain": [
              "['Soooooo', 'MUCH!!!']"
            ]
          },
          "metadata": {},
          "execution_count": 12
        }
      ],
      "source": [
        "# 조건 적용\n",
        "[word for word in sentence if len(word) > 6]"
      ]
    },
    {
      "cell_type": "code",
      "execution_count": 13,
      "id": "f691cdec-98cd-455f-aca7-97a0f07516fe",
      "metadata": {
        "colab": {
          "base_uri": "https://localhost:8080/"
        },
        "id": "f691cdec-98cd-455f-aca7-97a0f07516fe",
        "outputId": "462d0916-1eb3-4751-9999-4f46f23d7d65"
      },
      "outputs": [
        {
          "output_type": "execute_result",
          "data": {
            "text/plain": [
              "[(0, 0, 0),\n",
              " (1, 1, 1),\n",
              " (2, 4, 8),\n",
              " (3, 9, 27),\n",
              " (4, 16, 64),\n",
              " (5, 25, 125),\n",
              " (6, 36, 216),\n",
              " (7, 49, 343),\n",
              " (8, 64, 512),\n",
              " (9, 81, 729)]"
            ]
          },
          "metadata": {},
          "execution_count": 13
        }
      ],
      "source": [
        "# 함수 적용하여 튜플로 저장\n",
        "[(x, x**2, x**3) for x in range(10)]"
      ]
    },
    {
      "cell_type": "code",
      "execution_count": 14,
      "id": "f87451b4-06fd-4f17-8c79-0b1759d2979a",
      "metadata": {
        "colab": {
          "base_uri": "https://localhost:8080/"
        },
        "id": "f87451b4-06fd-4f17-8c79-0b1759d2979a",
        "outputId": "6fffa6a1-c7e8-41b6-e54c-54ba1d43bdfb"
      },
      "outputs": [
        {
          "output_type": "stream",
          "name": "stdout",
          "text": [
            "1 1\n",
            "1 2\n",
            "2 1\n",
            "2 2\n",
            "3 1\n",
            "3 2\n"
          ]
        }
      ],
      "source": [
        "# 두 개의 for\n",
        "rows = range(1,4)\n",
        "cols = range(1,3)\n",
        "for row in rows:\n",
        "    for col in cols:\n",
        "        print(row, col)"
      ]
    },
    {
      "cell_type": "code",
      "execution_count": 15,
      "id": "dbfb2668-479b-4036-9a83-debe82b0a2e1",
      "metadata": {
        "colab": {
          "base_uri": "https://localhost:8080/"
        },
        "id": "dbfb2668-479b-4036-9a83-debe82b0a2e1",
        "outputId": "6eda8f68-7b9d-4b9d-c59a-a53177df45b8"
      },
      "outputs": [
        {
          "output_type": "stream",
          "name": "stdout",
          "text": [
            "(1, 1)\n",
            "(1, 2)\n",
            "(2, 1)\n",
            "(2, 2)\n",
            "(3, 1)\n",
            "(3, 2)\n"
          ]
        }
      ],
      "source": [
        "# 리스트 내포\n",
        "rows = range(1,4)\n",
        "cols = range(1,3)\n",
        "cells = [(row, col) for row in rows for col in cols]\n",
        "for cell in cells:\n",
        "    print(cell)"
      ]
    },
    {
      "cell_type": "code",
      "execution_count": 16,
      "id": "9ebe9315-d9cb-46a9-a921-4f0f3723ac3e",
      "metadata": {
        "colab": {
          "base_uri": "https://localhost:8080/"
        },
        "id": "9ebe9315-d9cb-46a9-a921-4f0f3723ac3e",
        "outputId": "b302076f-a35e-43b7-e787-eec8ac6387b8"
      },
      "outputs": [
        {
          "output_type": "execute_result",
          "data": {
            "text/plain": [
              "[(1, 0),\n",
              " (2, 0),\n",
              " (2, 1),\n",
              " (3, 0),\n",
              " (3, 1),\n",
              " (3, 2),\n",
              " (4, 0),\n",
              " (4, 1),\n",
              " (4, 2),\n",
              " (4, 3)]"
            ]
          },
          "metadata": {},
          "execution_count": 16
        }
      ],
      "source": [
        "[(i, j) for i in range(5) for j in range(i)]"
      ]
    },
    {
      "cell_type": "markdown",
      "id": "d7b8a476-9e6f-4fff-984e-97bcfe133312",
      "metadata": {
        "id": "d7b8a476-9e6f-4fff-984e-97bcfe133312"
      },
      "source": [
        "### Dictionary Comprehension"
      ]
    },
    {
      "cell_type": "code",
      "execution_count": 17,
      "id": "122fd588-82f3-4cf8-bd7b-1b5661ead352",
      "metadata": {
        "id": "122fd588-82f3-4cf8-bd7b-1b5661ead352"
      },
      "outputs": [],
      "source": [
        "word = 'letters'\n",
        "letter_counts = {letter: word.count(letter) for letter in word}"
      ]
    },
    {
      "cell_type": "code",
      "execution_count": 18,
      "id": "cb5ddad7-8ddc-4f5c-8356-a02e67b49c49",
      "metadata": {
        "colab": {
          "base_uri": "https://localhost:8080/"
        },
        "id": "cb5ddad7-8ddc-4f5c-8356-a02e67b49c49",
        "outputId": "307781cb-6839-42c9-b473-19b1beb82921"
      },
      "outputs": [
        {
          "output_type": "execute_result",
          "data": {
            "text/plain": [
              "{'l': 1, 'e': 2, 't': 2, 'r': 1, 's': 1}"
            ]
          },
          "metadata": {},
          "execution_count": 18
        }
      ],
      "source": [
        "letter_counts"
      ]
    },
    {
      "cell_type": "code",
      "execution_count": 19,
      "id": "6a27645d-eef8-48b7-ad63-ade9f1c62781",
      "metadata": {
        "colab": {
          "base_uri": "https://localhost:8080/"
        },
        "id": "6a27645d-eef8-48b7-ad63-ade9f1c62781",
        "outputId": "453e8ee0-0d27-4f3f-b4f7-dd0cd560cef6"
      },
      "outputs": [
        {
          "output_type": "execute_result",
          "data": {
            "text/plain": [
              "{'l': 1, 't': 2, 's': 1, 'r': 1, 'e': 2}"
            ]
          },
          "metadata": {},
          "execution_count": 19
        }
      ],
      "source": [
        "word = 'letters'\n",
        "letter_counts = {letter: word.count(letter) for letter in set(word)}\n",
        "letter_counts"
      ]
    },
    {
      "cell_type": "code",
      "execution_count": 20,
      "id": "07e89d9d-938b-4c1a-b01b-347e12557370",
      "metadata": {
        "colab": {
          "base_uri": "https://localhost:8080/"
        },
        "id": "07e89d9d-938b-4c1a-b01b-347e12557370",
        "outputId": "bd2f6aeb-451e-4719-d685-e94d8e161d59"
      },
      "outputs": [
        {
          "output_type": "execute_result",
          "data": {
            "text/plain": [
              "{1, 4}"
            ]
          },
          "metadata": {},
          "execution_count": 20
        }
      ],
      "source": [
        "a_set = {number for number in range(1,6) if number % 3 == 1}\n",
        "a_set"
      ]
    },
    {
      "cell_type": "markdown",
      "id": "b4aa8806-6596-4c99-8b99-17a4fa237e5f",
      "metadata": {
        "id": "b4aa8806-6596-4c99-8b99-17a4fa237e5f"
      },
      "source": [
        "### Function"
      ]
    },
    {
      "cell_type": "code",
      "execution_count": 21,
      "id": "fa330731-b7d0-4a2d-95f8-a2d8ecb2a129",
      "metadata": {
        "id": "fa330731-b7d0-4a2d-95f8-a2d8ecb2a129"
      },
      "outputs": [],
      "source": [
        "def sum(a, b):\n",
        "    return a + b"
      ]
    },
    {
      "cell_type": "code",
      "execution_count": 22,
      "id": "415fb3f9-6681-4f45-865b-0bd88583b87b",
      "metadata": {
        "colab": {
          "base_uri": "https://localhost:8080/"
        },
        "id": "415fb3f9-6681-4f45-865b-0bd88583b87b",
        "outputId": "aea4db41-81f0-46cf-91de-0fd7419d09ae"
      },
      "outputs": [
        {
          "output_type": "execute_result",
          "data": {
            "text/plain": [
              "3"
            ]
          },
          "metadata": {},
          "execution_count": 22
        }
      ],
      "source": [
        "sum(1, 2)"
      ]
    },
    {
      "cell_type": "code",
      "execution_count": 23,
      "id": "99316d60-7496-4849-b842-021ae39187e8",
      "metadata": {
        "colab": {
          "base_uri": "https://localhost:8080/"
        },
        "id": "99316d60-7496-4849-b842-021ae39187e8",
        "outputId": "abdfd213-9b47-4881-9d38-5ffa10a0e377"
      },
      "outputs": [
        {
          "output_type": "execute_result",
          "data": {
            "text/plain": [
              "4.4"
            ]
          },
          "metadata": {},
          "execution_count": 23
        }
      ],
      "source": [
        "sum(1.3, 3.1)"
      ]
    },
    {
      "cell_type": "code",
      "execution_count": 24,
      "id": "93597415-295a-4021-9ed3-fb92b8562b38",
      "metadata": {
        "colab": {
          "base_uri": "https://localhost:8080/",
          "height": 36
        },
        "id": "93597415-295a-4021-9ed3-fb92b8562b38",
        "outputId": "5b71964d-59fc-4eca-e6c7-4f832ba07b31"
      },
      "outputs": [
        {
          "output_type": "execute_result",
          "data": {
            "text/plain": [
              "'love python'"
            ],
            "application/vnd.google.colaboratory.intrinsic+json": {
              "type": "string"
            }
          },
          "metadata": {},
          "execution_count": 24
        }
      ],
      "source": [
        "sum('love ', 'python')"
      ]
    },
    {
      "cell_type": "code",
      "execution_count": 25,
      "id": "cc2ef6f2-6962-4f22-84b8-12b75d126cf4",
      "metadata": {
        "colab": {
          "base_uri": "https://localhost:8080/"
        },
        "id": "cc2ef6f2-6962-4f22-84b8-12b75d126cf4",
        "outputId": "33d4fb9e-c2ed-4dcd-e7e9-433e6c578138"
      },
      "outputs": [
        {
          "output_type": "stream",
          "name": "stdout",
          "text": [
            "Monday : drink coffee - eat banana - enjoy tiramisu\n",
            "Tuesday : drink tea - eat orange - enjoy ice cream\n",
            "Wednesday : drink beer - eat peach - enjoy pie\n"
          ]
        }
      ],
      "source": [
        "# zip\n",
        "days = ['Monday', 'Tuesday', 'Wednesday']\n",
        "fruits = ['banana', 'orange', 'peach']\n",
        "drinks = ['coffee', 'tea', 'beer']\n",
        "desserts = ['tiramisu', 'ice cream', 'pie', 'pudding']\n",
        "\n",
        "for day, fruit, drink, dessert in zip(days, fruits, drinks, desserts):\n",
        "    print(day, \": drink\", drink, \"- eat\", fruit, \"- enjoy\", dessert)"
      ]
    },
    {
      "cell_type": "code",
      "execution_count": 26,
      "id": "15c56dc8-3c78-446d-91a1-be2a7b46c791",
      "metadata": {
        "colab": {
          "base_uri": "https://localhost:8080/"
        },
        "id": "15c56dc8-3c78-446d-91a1-be2a7b46c791",
        "outputId": "6d4e82e4-24fb-42c6-c4b9-8719e8a386e8"
      },
      "outputs": [
        {
          "output_type": "execute_result",
          "data": {
            "text/plain": [
              "[('Monday', 'Lundi'), ('Tuesday', 'Mardi'), ('Wednesday', 'Mercredi')]"
            ]
          },
          "metadata": {},
          "execution_count": 26
        }
      ],
      "source": [
        "english = 'Monday', 'Tuesday', 'Wednesday'\n",
        "french = 'Lundi', 'Mardi', 'Mercredi'\n",
        "\n",
        "list(zip(english, french))\n",
        "# [('Monday', 'Lundi'), ('Tuesday', 'Mardi'), ('Wednesday', 'Mercredi')]"
      ]
    },
    {
      "cell_type": "code",
      "execution_count": 27,
      "id": "8dabca3a-1e6b-4e17-81e1-e4580e5e2e67",
      "metadata": {
        "colab": {
          "base_uri": "https://localhost:8080/"
        },
        "id": "8dabca3a-1e6b-4e17-81e1-e4580e5e2e67",
        "outputId": "2d13c1e5-b537-4fed-dec4-fa3c35139597"
      },
      "outputs": [
        {
          "output_type": "execute_result",
          "data": {
            "text/plain": [
              "{'Monday': 'Lundi', 'Tuesday': 'Mardi', 'Wednesday': 'Mercredi'}"
            ]
          },
          "metadata": {},
          "execution_count": 27
        }
      ],
      "source": [
        "dict(zip(english, french))\n",
        "# {'Monday': 'Lundi', 'Tuesday': 'Mardi', 'Wednesday': 'Mercredi'}"
      ]
    },
    {
      "cell_type": "code",
      "execution_count": 28,
      "id": "7dd74d75-4489-4ff8-8f6d-0eda22ae222c",
      "metadata": {
        "id": "7dd74d75-4489-4ff8-8f6d-0eda22ae222c"
      },
      "outputs": [],
      "source": [
        "# 함수 인자\n",
        "def menu(wine, entree, dessert):\n",
        "    return {'wine': wine, 'entree': entree, 'dessert': dessert}"
      ]
    },
    {
      "cell_type": "code",
      "execution_count": 29,
      "id": "6b3cc929-493d-4647-9467-5f59cee77568",
      "metadata": {
        "colab": {
          "base_uri": "https://localhost:8080/"
        },
        "id": "6b3cc929-493d-4647-9467-5f59cee77568",
        "outputId": "a11b0690-8783-49c7-a473-8ee1fc2578aa"
      },
      "outputs": [
        {
          "output_type": "execute_result",
          "data": {
            "text/plain": [
              "{'wine': 'chardonnay', 'entree': 'chicken', 'dessert': 'cake'}"
            ]
          },
          "metadata": {},
          "execution_count": 29
        }
      ],
      "source": [
        "menu('chardonnay', 'chicken', 'cake')"
      ]
    },
    {
      "cell_type": "code",
      "execution_count": 30,
      "id": "81454e01-32d3-4089-bd9d-0d5c23a5deed",
      "metadata": {
        "colab": {
          "base_uri": "https://localhost:8080/"
        },
        "id": "81454e01-32d3-4089-bd9d-0d5c23a5deed",
        "outputId": "0bb06d2a-284c-4fa3-e315-a6e7701a1ba4"
      },
      "outputs": [
        {
          "output_type": "execute_result",
          "data": {
            "text/plain": [
              "{'wine': 'bordeaux', 'entree': 'beef', 'dessert': 'bagel'}"
            ]
          },
          "metadata": {},
          "execution_count": 30
        }
      ],
      "source": [
        "menu(entree='beef', dessert='bagel', wine='bordeaux')"
      ]
    },
    {
      "cell_type": "code",
      "execution_count": 31,
      "id": "e7c6ad30-342f-46e9-83c6-d2551cfc6d57",
      "metadata": {
        "colab": {
          "base_uri": "https://localhost:8080/"
        },
        "id": "e7c6ad30-342f-46e9-83c6-d2551cfc6d57",
        "outputId": "4d26ea20-438c-47e4-9822-bc0a52736bbd"
      },
      "outputs": [
        {
          "output_type": "execute_result",
          "data": {
            "text/plain": [
              "{'wine': 'frontenac', 'entree': 'fish', 'dessert': 'flan'}"
            ]
          },
          "metadata": {},
          "execution_count": 31
        }
      ],
      "source": [
        "menu('frontenac', dessert='flan', entree='fish')"
      ]
    },
    {
      "cell_type": "code",
      "execution_count": 32,
      "id": "0afb27ef-e1dd-4f37-bc25-ed0f758bcdf5",
      "metadata": {
        "id": "0afb27ef-e1dd-4f37-bc25-ed0f758bcdf5"
      },
      "outputs": [],
      "source": [
        "# 함수 기본값\n",
        "def menu(wine, entree, dessert='pudding'):\n",
        "    return {'wine': wine, 'entree': entree, 'dessert': dessert}"
      ]
    },
    {
      "cell_type": "code",
      "execution_count": 33,
      "id": "335f17ec-cbbd-4035-83f6-188d21d212d4",
      "metadata": {
        "colab": {
          "base_uri": "https://localhost:8080/"
        },
        "id": "335f17ec-cbbd-4035-83f6-188d21d212d4",
        "outputId": "2bb05be6-e0df-484e-acd3-566075bbc111"
      },
      "outputs": [
        {
          "output_type": "execute_result",
          "data": {
            "text/plain": [
              "{'wine': 'chardonnay', 'entree': 'chicken', 'dessert': 'pudding'}"
            ]
          },
          "metadata": {},
          "execution_count": 33
        }
      ],
      "source": [
        "menu('chardonnay', 'chicken')"
      ]
    },
    {
      "cell_type": "code",
      "execution_count": 34,
      "id": "5ceaa9f3-dec4-4389-914c-abb828303e4a",
      "metadata": {
        "colab": {
          "base_uri": "https://localhost:8080/"
        },
        "id": "5ceaa9f3-dec4-4389-914c-abb828303e4a",
        "outputId": "1f67fb5d-de9c-4a49-b46b-36c3c64dd64b"
      },
      "outputs": [
        {
          "output_type": "execute_result",
          "data": {
            "text/plain": [
              "{'wine': 'dunkelfelder', 'entree': 'duck', 'dessert': 'doughnut'}"
            ]
          },
          "metadata": {},
          "execution_count": 34
        }
      ],
      "source": [
        "menu('dunkelfelder', 'duck', 'doughnut')"
      ]
    },
    {
      "cell_type": "code",
      "execution_count": 35,
      "id": "84fa2ef2-a426-4067-81b8-73be80bd4799",
      "metadata": {
        "id": "84fa2ef2-a426-4067-81b8-73be80bd4799"
      },
      "outputs": [],
      "source": [
        "def menu(price, wine='chardonnay', entree='chicken', dessert='pudding'):\n",
        "         return {'price': price, 'wine': wine, 'entree': entree, 'dessert': dessert}"
      ]
    },
    {
      "cell_type": "code",
      "execution_count": 36,
      "id": "fb268c55-8bc4-4473-92f6-58fba4aa135d",
      "metadata": {
        "colab": {
          "base_uri": "https://localhost:8080/"
        },
        "id": "fb268c55-8bc4-4473-92f6-58fba4aa135d",
        "outputId": "12b20ff1-316f-463f-8fe8-eeca127f2b6e"
      },
      "outputs": [
        {
          "output_type": "execute_result",
          "data": {
            "text/plain": [
              "{'price': 100, 'wine': 'chardonnay', 'entree': 'chicken', 'dessert': 'pudding'}"
            ]
          },
          "metadata": {},
          "execution_count": 36
        }
      ],
      "source": [
        "menu(100)"
      ]
    },
    {
      "cell_type": "code",
      "execution_count": 37,
      "id": "eb85bd67-5935-4329-856d-2afaecf386a6",
      "metadata": {
        "colab": {
          "base_uri": "https://localhost:8080/"
        },
        "id": "eb85bd67-5935-4329-856d-2afaecf386a6",
        "outputId": "25244eb5-8613-4f6f-fd92-7cda2ad963e8"
      },
      "outputs": [
        {
          "output_type": "execute_result",
          "data": {
            "text/plain": [
              "{'price': 100, 'wine': 'chardonnay', 'entree': 'chicken', 'dessert': 'pudding'}"
            ]
          },
          "metadata": {},
          "execution_count": 37
        }
      ],
      "source": [
        "menu(price=100)"
      ]
    },
    {
      "cell_type": "code",
      "execution_count": 38,
      "id": "a7abb75c-f21a-45b3-aab9-5729653cbedf",
      "metadata": {
        "colab": {
          "base_uri": "https://localhost:8080/"
        },
        "id": "a7abb75c-f21a-45b3-aab9-5729653cbedf",
        "outputId": "0154ad0d-24c5-4031-818a-15b00b37b31f"
      },
      "outputs": [
        {
          "output_type": "execute_result",
          "data": {
            "text/plain": [
              "{'price': 120, 'wine': 'chardonnay', 'entree': 'beef', 'dessert': 'pudding'}"
            ]
          },
          "metadata": {},
          "execution_count": 38
        }
      ],
      "source": [
        "menu(price=120, entree='beef')"
      ]
    },
    {
      "cell_type": "code",
      "execution_count": 39,
      "id": "a2f6f068-7c2c-4040-8e6c-85ab142130dd",
      "metadata": {
        "colab": {
          "base_uri": "https://localhost:8080/"
        },
        "id": "a2f6f068-7c2c-4040-8e6c-85ab142130dd",
        "outputId": "0016f237-109a-4beb-fb7c-4728740fabc2"
      },
      "outputs": [
        {
          "output_type": "execute_result",
          "data": {
            "text/plain": [
              "{'price': 110, 'wine': 'chardonnay', 'entree': 'chicken', 'dessert': 'bagel'}"
            ]
          },
          "metadata": {},
          "execution_count": 39
        }
      ],
      "source": [
        "menu(dessert='bagel', price=110)"
      ]
    },
    {
      "cell_type": "code",
      "execution_count": 40,
      "id": "3051136f-3cde-41ac-a0df-514b0eb161d3",
      "metadata": {
        "colab": {
          "base_uri": "https://localhost:8080/"
        },
        "id": "3051136f-3cde-41ac-a0df-514b0eb161d3",
        "outputId": "07b858f2-4be6-47b2-c92e-a205ca187ae6"
      },
      "outputs": [
        {
          "output_type": "execute_result",
          "data": {
            "text/plain": [
              "{'price': 'eighty',\n",
              " 'wine': 'saint-pierre',\n",
              " 'entree': 'fish',\n",
              " 'dessert': 'pudding'}"
            ]
          },
          "metadata": {},
          "execution_count": 40
        }
      ],
      "source": [
        "menu('eighty', 'saint-pierre', 'fish')"
      ]
    },
    {
      "cell_type": "code",
      "execution_count": 41,
      "id": "e4d5e3ce-8efd-4568-9360-a69b50f06799",
      "metadata": {
        "colab": {
          "base_uri": "https://localhost:8080/"
        },
        "id": "e4d5e3ce-8efd-4568-9360-a69b50f06799",
        "outputId": "3cfc7ad2-8d6b-4778-d1a5-c3b60698d0fc"
      },
      "outputs": [
        {
          "output_type": "execute_result",
          "data": {
            "text/plain": [
              "{'price': 'hundred',\n",
              " 'wine': 'saint-pierre',\n",
              " 'entree': 'chicken',\n",
              " 'dessert': 'pudding'}"
            ]
          },
          "metadata": {},
          "execution_count": 41
        }
      ],
      "source": [
        "menu('hundred', wine='saint-pierre')"
      ]
    },
    {
      "cell_type": "code",
      "execution_count": 42,
      "id": "e7ac92e0-989c-45ef-ad6a-8dde77ec5e73",
      "metadata": {
        "id": "e7ac92e0-989c-45ef-ad6a-8dde77ec5e73"
      },
      "outputs": [],
      "source": [
        "#menu()\n",
        "#menu(price=100, 'saint-pierre')\n",
        "#menu(100, price=120)\n",
        "#menu(main='cream pasta')"
      ]
    },
    {
      "cell_type": "code",
      "execution_count": 43,
      "id": "c56f5374-b57b-4b66-bba6-57b13371d4a3",
      "metadata": {
        "id": "c56f5374-b57b-4b66-bba6-57b13371d4a3"
      },
      "outputs": [],
      "source": [
        "# docstring\n",
        "def echo(anything):\n",
        "    'echo returns its input argument'\n",
        "    return anything"
      ]
    },
    {
      "cell_type": "code",
      "execution_count": 44,
      "id": "f1cef8e6-6556-4f57-82b7-0e24611be113",
      "metadata": {
        "id": "f1cef8e6-6556-4f57-82b7-0e24611be113"
      },
      "outputs": [],
      "source": [
        "def print_if_true(thing, check):\n",
        "    \"\"\"\n",
        "    Prints the first argument if a second argument is true.\n",
        "    The operations is:\n",
        "        1. Check whether the *second* argument is true.\n",
        "        2. If it is, print the *first* arguments.\n",
        "    \"\"\"\n",
        "    if check:\n",
        "        print(thing)"
      ]
    },
    {
      "cell_type": "code",
      "execution_count": 45,
      "id": "6d957886-beaa-4c4f-ad39-2f161d03eadc",
      "metadata": {
        "colab": {
          "base_uri": "https://localhost:8080/"
        },
        "id": "6d957886-beaa-4c4f-ad39-2f161d03eadc",
        "outputId": "37ddfde7-ba82-4674-e479-e76c5e742eac"
      },
      "outputs": [
        {
          "output_type": "stream",
          "name": "stdout",
          "text": [
            "Help on function echo in module __main__:\n",
            "\n",
            "echo(anything)\n",
            "    echo returns its input argument\n",
            "\n"
          ]
        }
      ],
      "source": [
        "help(echo)"
      ]
    },
    {
      "cell_type": "code",
      "execution_count": 46,
      "id": "5ec54d3d-f17d-4b6f-9983-1f9ebc03d410",
      "metadata": {
        "colab": {
          "base_uri": "https://localhost:8080/"
        },
        "id": "5ec54d3d-f17d-4b6f-9983-1f9ebc03d410",
        "outputId": "b5777f93-2786-4be8-8baf-307eef6cf93e"
      },
      "outputs": [
        {
          "output_type": "stream",
          "name": "stdout",
          "text": [
            "echo returns its input argument\n"
          ]
        }
      ],
      "source": [
        "print(echo.__doc__)"
      ]
    },
    {
      "cell_type": "code",
      "execution_count": 47,
      "id": "e1882244-e662-459f-be1f-9907d63cdeda",
      "metadata": {
        "colab": {
          "base_uri": "https://localhost:8080/"
        },
        "id": "e1882244-e662-459f-be1f-9907d63cdeda",
        "outputId": "68be9435-014e-4c2e-f87a-4e12c3ba2438"
      },
      "outputs": [
        {
          "output_type": "stream",
          "name": "stdout",
          "text": [
            "Help on function print_if_true in module __main__:\n",
            "\n",
            "print_if_true(thing, check)\n",
            "    Prints the first argument if a second argument is true.\n",
            "    The operations is:\n",
            "        1. Check whether the *second* argument is true.\n",
            "        2. If it is, print the *first* arguments.\n",
            "\n"
          ]
        }
      ],
      "source": [
        "help(print_if_true)"
      ]
    },
    {
      "cell_type": "code",
      "execution_count": 49,
      "id": "986e822f-6200-4b05-ab5b-b9235255dcf7",
      "metadata": {
        "colab": {
          "base_uri": "https://localhost:8080/"
        },
        "id": "986e822f-6200-4b05-ab5b-b9235255dcf7",
        "outputId": "33319445-7f2b-47d1-961f-42c2b828058a"
      },
      "outputs": [
        {
          "output_type": "stream",
          "name": "stdout",
          "text": [
            "\n",
            "    Prints the first argument if a second argument is true.\n",
            "    The operations is:\n",
            "        1. Check whether the *second* argument is true.\n",
            "        2. If it is, print the *first* arguments.\n",
            "    \n"
          ]
        }
      ],
      "source": [
        "print(print_if_true.__doc__)"
      ]
    }
  ],
  "metadata": {
    "kernelspec": {
      "display_name": "Python 3 (ipykernel)",
      "language": "python",
      "name": "python3"
    },
    "language_info": {
      "codemirror_mode": {
        "name": "ipython",
        "version": 3
      },
      "file_extension": ".py",
      "mimetype": "text/x-python",
      "name": "python",
      "nbconvert_exporter": "python",
      "pygments_lexer": "ipython3",
      "version": "3.10.0"
    },
    "colab": {
      "provenance": [],
      "include_colab_link": true
    }
  },
  "nbformat": 4,
  "nbformat_minor": 5
}